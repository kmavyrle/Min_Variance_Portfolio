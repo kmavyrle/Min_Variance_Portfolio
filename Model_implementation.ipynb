{
 "cells": [
  {
   "cell_type": "markdown",
   "id": "03635766",
   "metadata": {},
   "source": [
    "#####\n",
    "1. Minimise Vol (Scipy Optimise)***\n",
    "2. Minimise Calmar (Drawdown) (Scipy Optimise)***\n",
    "3. Minimise Neg sharpe (Scipy Optimise)\n",
    "4. Momentum Strategy (Simple)***\n",
    "5. Neural Network (LSTM Model)\n",
    "6. Hierarchial Risk Parity \n",
    "7.\n",
    "\n"
   ]
  },
  {
   "cell_type": "code",
   "execution_count": 1,
   "id": "f68b2918",
   "metadata": {},
   "outputs": [],
   "source": [
    "from quant_risk.statistics import financial_ratios as ratios\n",
    "from quant_risk.portfolio import portfolio as port\n",
    "from quant_risk.portfolio.portfolio import MeanVariance\n",
    "from quant_risk.utils import plot\n",
    "from quant_risk.utils import fetch_data as fetch_data\n",
    "\n",
    "import pandas as pd\n",
    "import numpy as np\n",
    "import matplotlib.pyplot as plt\n",
    "import yfinance as yf\n",
    "import datetime as dt\n",
    "from scipy.optimize import minimize\n",
    "from sklearn.linear_model import LinearRegression\n",
    "import functions as f\n",
    "%load_ext autoreload\n",
    "%autoreload 2"
   ]
  },
  {
   "cell_type": "code",
   "execution_count": 2,
   "id": "2800ac6c",
   "metadata": {},
   "outputs": [],
   "source": [
    "tickerlist = ['^STI','^GSPC','^RUT','^DJI','^IXIC','^FTSE','^HSI','^NSEI','^VIX','^N225','^KS11','GLD','SHY','TLH','TLT']"
   ]
  },
  {
   "cell_type": "code",
   "execution_count": 3,
   "id": "564c3252",
   "metadata": {},
   "outputs": [
    {
     "name": "stdout",
     "output_type": "stream",
     "text": [
      "[*********************100%***********************]  15 of 15 completed\n"
     ]
    },
    {
     "data": {
      "text/html": [
       "<div>\n",
       "<style scoped>\n",
       "    .dataframe tbody tr th:only-of-type {\n",
       "        vertical-align: middle;\n",
       "    }\n",
       "\n",
       "    .dataframe tbody tr th {\n",
       "        vertical-align: top;\n",
       "    }\n",
       "\n",
       "    .dataframe thead tr th {\n",
       "        text-align: left;\n",
       "    }\n",
       "\n",
       "    .dataframe thead tr:last-of-type th {\n",
       "        text-align: right;\n",
       "    }\n",
       "</style>\n",
       "<table border=\"1\" class=\"dataframe\">\n",
       "  <thead>\n",
       "    <tr>\n",
       "      <th></th>\n",
       "      <th>Gold</th>\n",
       "      <th>2 Year Bond</th>\n",
       "      <th>10-20 year Bond</th>\n",
       "      <th>20 Year Bond</th>\n",
       "      <th>Dow</th>\n",
       "      <th>FTSE</th>\n",
       "      <th>S&amp;P500</th>\n",
       "      <th>HSI</th>\n",
       "      <th>Nasdaq</th>\n",
       "      <th>Kospi</th>\n",
       "      <th>Nikkei</th>\n",
       "      <th>Nifty</th>\n",
       "      <th>Russell2k</th>\n",
       "      <th>STI</th>\n",
       "      <th>Vix</th>\n",
       "    </tr>\n",
       "    <tr>\n",
       "      <th>Date</th>\n",
       "      <th></th>\n",
       "      <th></th>\n",
       "      <th></th>\n",
       "      <th></th>\n",
       "      <th></th>\n",
       "      <th></th>\n",
       "      <th></th>\n",
       "      <th></th>\n",
       "      <th></th>\n",
       "      <th></th>\n",
       "      <th></th>\n",
       "      <th></th>\n",
       "      <th></th>\n",
       "      <th></th>\n",
       "      <th></th>\n",
       "    </tr>\n",
       "  </thead>\n",
       "  <tbody>\n",
       "    <tr>\n",
       "      <th>2007-01-02</th>\n",
       "      <td>NaN</td>\n",
       "      <td>NaN</td>\n",
       "      <td>NaN</td>\n",
       "      <td>NaN</td>\n",
       "      <td>NaN</td>\n",
       "      <td>6310.899902</td>\n",
       "      <td>NaN</td>\n",
       "      <td>20310.179688</td>\n",
       "      <td>NaN</td>\n",
       "      <td>1435.260010</td>\n",
       "      <td>NaN</td>\n",
       "      <td>NaN</td>\n",
       "      <td>NaN</td>\n",
       "      <td>NaN</td>\n",
       "      <td>NaN</td>\n",
       "    </tr>\n",
       "    <tr>\n",
       "      <th>2007-01-03</th>\n",
       "      <td>62.279999</td>\n",
       "      <td>65.291283</td>\n",
       "      <td>NaN</td>\n",
       "      <td>56.795158</td>\n",
       "      <td>12474.519531</td>\n",
       "      <td>6319.000000</td>\n",
       "      <td>1416.599976</td>\n",
       "      <td>20413.390625</td>\n",
       "      <td>2423.159912</td>\n",
       "      <td>1409.349976</td>\n",
       "      <td>NaN</td>\n",
       "      <td>NaN</td>\n",
       "      <td>787.419983</td>\n",
       "      <td>3037.739990</td>\n",
       "      <td>12.040000</td>\n",
       "    </tr>\n",
       "    <tr>\n",
       "      <th>2007-01-04</th>\n",
       "      <td>61.650002</td>\n",
       "      <td>65.356514</td>\n",
       "      <td>NaN</td>\n",
       "      <td>57.139523</td>\n",
       "      <td>12480.690430</td>\n",
       "      <td>6287.000000</td>\n",
       "      <td>1418.339966</td>\n",
       "      <td>20025.580078</td>\n",
       "      <td>2453.429932</td>\n",
       "      <td>1397.290039</td>\n",
       "      <td>17353.669922</td>\n",
       "      <td>NaN</td>\n",
       "      <td>789.950012</td>\n",
       "      <td>3023.800049</td>\n",
       "      <td>11.510000</td>\n",
       "    </tr>\n",
       "    <tr>\n",
       "      <th>2007-01-05</th>\n",
       "      <td>60.169998</td>\n",
       "      <td>65.315727</td>\n",
       "      <td>NaN</td>\n",
       "      <td>56.890812</td>\n",
       "      <td>12398.009766</td>\n",
       "      <td>6220.100098</td>\n",
       "      <td>1409.709961</td>\n",
       "      <td>20211.279297</td>\n",
       "      <td>2434.250000</td>\n",
       "      <td>1385.760010</td>\n",
       "      <td>17091.589844</td>\n",
       "      <td>NaN</td>\n",
       "      <td>775.869995</td>\n",
       "      <td>3029.040039</td>\n",
       "      <td>12.140000</td>\n",
       "    </tr>\n",
       "    <tr>\n",
       "      <th>2007-01-08</th>\n",
       "      <td>60.480000</td>\n",
       "      <td>65.274940</td>\n",
       "      <td>NaN</td>\n",
       "      <td>56.992832</td>\n",
       "      <td>12423.490234</td>\n",
       "      <td>6194.200195</td>\n",
       "      <td>1412.839966</td>\n",
       "      <td>20029.660156</td>\n",
       "      <td>2438.199951</td>\n",
       "      <td>1370.810059</td>\n",
       "      <td>NaN</td>\n",
       "      <td>NaN</td>\n",
       "      <td>776.989990</td>\n",
       "      <td>3000.000000</td>\n",
       "      <td>12.000000</td>\n",
       "    </tr>\n",
       "    <tr>\n",
       "      <th>...</th>\n",
       "      <td>...</td>\n",
       "      <td>...</td>\n",
       "      <td>...</td>\n",
       "      <td>...</td>\n",
       "      <td>...</td>\n",
       "      <td>...</td>\n",
       "      <td>...</td>\n",
       "      <td>...</td>\n",
       "      <td>...</td>\n",
       "      <td>...</td>\n",
       "      <td>...</td>\n",
       "      <td>...</td>\n",
       "      <td>...</td>\n",
       "      <td>...</td>\n",
       "      <td>...</td>\n",
       "    </tr>\n",
       "    <tr>\n",
       "      <th>2022-04-25</th>\n",
       "      <td>177.050003</td>\n",
       "      <td>83.010002</td>\n",
       "      <td>125.370003</td>\n",
       "      <td>121.190002</td>\n",
       "      <td>34049.460938</td>\n",
       "      <td>7380.500000</td>\n",
       "      <td>4296.120117</td>\n",
       "      <td>19869.339844</td>\n",
       "      <td>13004.849609</td>\n",
       "      <td>2657.129883</td>\n",
       "      <td>26590.779297</td>\n",
       "      <td>16953.949219</td>\n",
       "      <td>1954.199951</td>\n",
       "      <td>3339.590088</td>\n",
       "      <td>27.020000</td>\n",
       "    </tr>\n",
       "    <tr>\n",
       "      <th>2022-04-26</th>\n",
       "      <td>177.320007</td>\n",
       "      <td>83.160004</td>\n",
       "      <td>126.599998</td>\n",
       "      <td>122.410004</td>\n",
       "      <td>33240.179688</td>\n",
       "      <td>7386.200195</td>\n",
       "      <td>4175.200195</td>\n",
       "      <td>19934.710938</td>\n",
       "      <td>12490.740234</td>\n",
       "      <td>2668.310059</td>\n",
       "      <td>26700.109375</td>\n",
       "      <td>17200.800781</td>\n",
       "      <td>1890.469971</td>\n",
       "      <td>3322.050049</td>\n",
       "      <td>33.520000</td>\n",
       "    </tr>\n",
       "    <tr>\n",
       "      <th>2022-04-27</th>\n",
       "      <td>175.979996</td>\n",
       "      <td>83.120003</td>\n",
       "      <td>125.349998</td>\n",
       "      <td>120.839996</td>\n",
       "      <td>33301.929688</td>\n",
       "      <td>7425.600098</td>\n",
       "      <td>4183.959961</td>\n",
       "      <td>19946.359375</td>\n",
       "      <td>12488.929688</td>\n",
       "      <td>2639.060059</td>\n",
       "      <td>26386.630859</td>\n",
       "      <td>17038.400391</td>\n",
       "      <td>1884.040039</td>\n",
       "      <td>3320.669922</td>\n",
       "      <td>31.600000</td>\n",
       "    </tr>\n",
       "    <tr>\n",
       "      <th>2022-04-28</th>\n",
       "      <td>176.929993</td>\n",
       "      <td>83.059998</td>\n",
       "      <td>125.309998</td>\n",
       "      <td>121.019997</td>\n",
       "      <td>33916.390625</td>\n",
       "      <td>7509.200195</td>\n",
       "      <td>4287.500000</td>\n",
       "      <td>20276.169922</td>\n",
       "      <td>12871.530273</td>\n",
       "      <td>2667.489990</td>\n",
       "      <td>26847.900391</td>\n",
       "      <td>17245.050781</td>\n",
       "      <td>1917.939941</td>\n",
       "      <td>3335.090088</td>\n",
       "      <td>29.990000</td>\n",
       "    </tr>\n",
       "    <tr>\n",
       "      <th>2022-04-29</th>\n",
       "      <td>176.910004</td>\n",
       "      <td>82.900002</td>\n",
       "      <td>123.940002</td>\n",
       "      <td>119.449997</td>\n",
       "      <td>32977.210938</td>\n",
       "      <td>7544.600098</td>\n",
       "      <td>4131.930176</td>\n",
       "      <td>21089.390625</td>\n",
       "      <td>12334.639648</td>\n",
       "      <td>2695.050049</td>\n",
       "      <td>NaN</td>\n",
       "      <td>17102.550781</td>\n",
       "      <td>1864.099976</td>\n",
       "      <td>3356.899902</td>\n",
       "      <td>33.400002</td>\n",
       "    </tr>\n",
       "  </tbody>\n",
       "</table>\n",
       "<p>3991 rows × 15 columns</p>\n",
       "</div>"
      ],
      "text/plain": [
       "                  Gold 2 Year Bond 10-20 year Bond 20 Year Bond           Dow  \\\n",
       "Date                                                                            \n",
       "2007-01-02         NaN         NaN             NaN          NaN           NaN   \n",
       "2007-01-03   62.279999   65.291283             NaN    56.795158  12474.519531   \n",
       "2007-01-04   61.650002   65.356514             NaN    57.139523  12480.690430   \n",
       "2007-01-05   60.169998   65.315727             NaN    56.890812  12398.009766   \n",
       "2007-01-08   60.480000   65.274940             NaN    56.992832  12423.490234   \n",
       "...                ...         ...             ...          ...           ...   \n",
       "2022-04-25  177.050003   83.010002      125.370003   121.190002  34049.460938   \n",
       "2022-04-26  177.320007   83.160004      126.599998   122.410004  33240.179688   \n",
       "2022-04-27  175.979996   83.120003      125.349998   120.839996  33301.929688   \n",
       "2022-04-28  176.929993   83.059998      125.309998   121.019997  33916.390625   \n",
       "2022-04-29  176.910004   82.900002      123.940002   119.449997  32977.210938   \n",
       "\n",
       "                   FTSE       S&P500           HSI        Nasdaq        Kospi  \\\n",
       "Date                                                                            \n",
       "2007-01-02  6310.899902          NaN  20310.179688           NaN  1435.260010   \n",
       "2007-01-03  6319.000000  1416.599976  20413.390625   2423.159912  1409.349976   \n",
       "2007-01-04  6287.000000  1418.339966  20025.580078   2453.429932  1397.290039   \n",
       "2007-01-05  6220.100098  1409.709961  20211.279297   2434.250000  1385.760010   \n",
       "2007-01-08  6194.200195  1412.839966  20029.660156   2438.199951  1370.810059   \n",
       "...                 ...          ...           ...           ...          ...   \n",
       "2022-04-25  7380.500000  4296.120117  19869.339844  13004.849609  2657.129883   \n",
       "2022-04-26  7386.200195  4175.200195  19934.710938  12490.740234  2668.310059   \n",
       "2022-04-27  7425.600098  4183.959961  19946.359375  12488.929688  2639.060059   \n",
       "2022-04-28  7509.200195  4287.500000  20276.169922  12871.530273  2667.489990   \n",
       "2022-04-29  7544.600098  4131.930176  21089.390625  12334.639648  2695.050049   \n",
       "\n",
       "                  Nikkei         Nifty    Russell2k          STI        Vix  \n",
       "Date                                                                         \n",
       "2007-01-02           NaN           NaN          NaN          NaN        NaN  \n",
       "2007-01-03           NaN           NaN   787.419983  3037.739990  12.040000  \n",
       "2007-01-04  17353.669922           NaN   789.950012  3023.800049  11.510000  \n",
       "2007-01-05  17091.589844           NaN   775.869995  3029.040039  12.140000  \n",
       "2007-01-08           NaN           NaN   776.989990  3000.000000  12.000000  \n",
       "...                  ...           ...          ...          ...        ...  \n",
       "2022-04-25  26590.779297  16953.949219  1954.199951  3339.590088  27.020000  \n",
       "2022-04-26  26700.109375  17200.800781  1890.469971  3322.050049  33.520000  \n",
       "2022-04-27  26386.630859  17038.400391  1884.040039  3320.669922  31.600000  \n",
       "2022-04-28  26847.900391  17245.050781  1917.939941  3335.090088  29.990000  \n",
       "2022-04-29           NaN  17102.550781  1864.099976  3356.899902  33.400002  \n",
       "\n",
       "[3991 rows x 15 columns]"
      ]
     },
     "execution_count": 3,
     "metadata": {},
     "output_type": "execute_result"
    }
   ],
   "source": [
    "df = yf.download(tickerlist, period = '1d', start = '2007-01-01',end = pd.Timestamp.today())\n",
    "columns = df.columns\n",
    "df = df.iloc[:,:15]['2007':]\n",
    "price_change = df.pct_change().fillna(method = 'bfill')\n",
    "df.columns = [['Gold','2 Year Bond','10-20 year Bond','20 Year Bond','Dow','FTSE','S&P500','HSI','Nasdaq','Kospi','Nikkei','Nifty','Russell2k','STI','Vix']]\n",
    "df"
   ]
  },
  {
   "cell_type": "code",
   "execution_count": 4,
   "id": "21ca8e55",
   "metadata": {},
   "outputs": [
    {
     "data": {
      "text/html": [
       "<div>\n",
       "<style scoped>\n",
       "    .dataframe tbody tr th:only-of-type {\n",
       "        vertical-align: middle;\n",
       "    }\n",
       "\n",
       "    .dataframe tbody tr th {\n",
       "        vertical-align: top;\n",
       "    }\n",
       "\n",
       "    .dataframe thead th {\n",
       "        text-align: right;\n",
       "    }\n",
       "</style>\n",
       "<table border=\"1\" class=\"dataframe\">\n",
       "  <thead>\n",
       "    <tr style=\"text-align: right;\">\n",
       "      <th></th>\n",
       "      <th>GLD</th>\n",
       "      <th>SHY</th>\n",
       "      <th>TLH</th>\n",
       "      <th>TLT</th>\n",
       "      <th>^DJI</th>\n",
       "      <th>^FTSE</th>\n",
       "      <th>^GSPC</th>\n",
       "      <th>^HSI</th>\n",
       "      <th>^IXIC</th>\n",
       "      <th>^KS11</th>\n",
       "      <th>^N225</th>\n",
       "      <th>^NSEI</th>\n",
       "      <th>^RUT</th>\n",
       "      <th>^STI</th>\n",
       "      <th>^VIX</th>\n",
       "    </tr>\n",
       "    <tr>\n",
       "      <th>Date</th>\n",
       "      <th></th>\n",
       "      <th></th>\n",
       "      <th></th>\n",
       "      <th></th>\n",
       "      <th></th>\n",
       "      <th></th>\n",
       "      <th></th>\n",
       "      <th></th>\n",
       "      <th></th>\n",
       "      <th></th>\n",
       "      <th></th>\n",
       "      <th></th>\n",
       "      <th></th>\n",
       "      <th></th>\n",
       "      <th></th>\n",
       "    </tr>\n",
       "  </thead>\n",
       "  <tbody>\n",
       "    <tr>\n",
       "      <th>2007-01-02</th>\n",
       "      <td>-0.010116</td>\n",
       "      <td>0.000999</td>\n",
       "      <td>-0.00498</td>\n",
       "      <td>0.006063</td>\n",
       "      <td>0.000495</td>\n",
       "      <td>0.001284</td>\n",
       "      <td>0.001228</td>\n",
       "      <td>0.005082</td>\n",
       "      <td>0.012492</td>\n",
       "      <td>-0.018053</td>\n",
       "      <td>-0.015102</td>\n",
       "      <td>0.011469</td>\n",
       "      <td>0.003213</td>\n",
       "      <td>-0.004589</td>\n",
       "      <td>-0.04402</td>\n",
       "    </tr>\n",
       "    <tr>\n",
       "      <th>2007-01-03</th>\n",
       "      <td>-0.010116</td>\n",
       "      <td>0.000999</td>\n",
       "      <td>-0.00498</td>\n",
       "      <td>0.006063</td>\n",
       "      <td>0.000495</td>\n",
       "      <td>0.001284</td>\n",
       "      <td>0.001228</td>\n",
       "      <td>0.005082</td>\n",
       "      <td>0.012492</td>\n",
       "      <td>-0.018053</td>\n",
       "      <td>-0.015102</td>\n",
       "      <td>0.011469</td>\n",
       "      <td>0.003213</td>\n",
       "      <td>-0.004589</td>\n",
       "      <td>-0.04402</td>\n",
       "    </tr>\n",
       "  </tbody>\n",
       "</table>\n",
       "</div>"
      ],
      "text/plain": [
       "                 GLD       SHY      TLH       TLT      ^DJI     ^FTSE  \\\n",
       "Date                                                                    \n",
       "2007-01-02 -0.010116  0.000999 -0.00498  0.006063  0.000495  0.001284   \n",
       "2007-01-03 -0.010116  0.000999 -0.00498  0.006063  0.000495  0.001284   \n",
       "\n",
       "               ^GSPC      ^HSI     ^IXIC     ^KS11     ^N225     ^NSEI  \\\n",
       "Date                                                                     \n",
       "2007-01-02  0.001228  0.005082  0.012492 -0.018053 -0.015102  0.011469   \n",
       "2007-01-03  0.001228  0.005082  0.012492 -0.018053 -0.015102  0.011469   \n",
       "\n",
       "                ^RUT      ^STI     ^VIX  \n",
       "Date                                     \n",
       "2007-01-02  0.003213 -0.004589 -0.04402  \n",
       "2007-01-03  0.003213 -0.004589 -0.04402  "
      ]
     },
     "execution_count": 4,
     "metadata": {},
     "output_type": "execute_result"
    }
   ],
   "source": [
    "#Take a look at the price change dataframe\n",
    "tickerlist.sort()\n",
    "price_change.columns = tickerlist\n",
    "price_change.head(2)"
   ]
  },
  {
   "cell_type": "markdown",
   "id": "a7b8a138",
   "metadata": {},
   "source": [
    "## Look at a sample BETA of STI index with respect to S&P 500 using Linear Regression"
   ]
  },
  {
   "cell_type": "code",
   "execution_count": 5,
   "id": "4c89fc05",
   "metadata": {},
   "outputs": [
    {
     "name": "stdout",
     "output_type": "stream",
     "text": [
      "Beta:  [0.32642251]\n"
     ]
    }
   ],
   "source": [
    "x = np.array(price_change['^STI']).reshape((-1,1))\n",
    "y = np.array(price_change['^GSPC'])\n",
    "model = LinearRegression().fit(x, y)\n",
    "# Prints the beta to the screen \n",
    "print('Beta: ', model.coef_)\n",
    "#Beta = 0.3264"
   ]
  },
  {
   "cell_type": "code",
   "execution_count": 6,
   "id": "d8e1eff1",
   "metadata": {},
   "outputs": [
    {
     "name": "stdout",
     "output_type": "stream",
     "text": [
      "Beta:  [1.]\n"
     ]
    }
   ],
   "source": [
    "x = np.array(price_change['^GSPC']).reshape((-1,1))\n",
    "y = np.array(price_change['^GSPC'])\n",
    "model = LinearRegression().fit(x, y)\n",
    "# Prints the beta to the screen \n",
    "print('Beta: ', model.coef_)\n",
    "#S&P500 has a beta of 1"
   ]
  },
  {
   "cell_type": "markdown",
   "id": "3216a6b4",
   "metadata": {},
   "source": [
    "# Plot Out the Efficient Frontier\n",
    "1. For this step we will plot the efficient frontier to see which is the best portfolio that will give us the Global Minimum Variance Portfolio\n",
    "2. This step employs a trial and error process to iteratively add small increments to our target return in the Markowitz efficient frontier\n",
    "3. Observe where on the efficient frontier does the point land on"
   ]
  },
  {
   "cell_type": "code",
   "execution_count": 13,
   "id": "a61b2912",
   "metadata": {},
   "outputs": [
    {
     "data": {
      "text/plain": [
       "array([0.002, 0.005, 0.008, 0.011, 0.014, 0.017, 0.02 , 0.023, 0.026,\n",
       "       0.029, 0.032, 0.035, 0.038, 0.041, 0.044, 0.047, 0.05 , 0.053,\n",
       "       0.056, 0.059, 0.062, 0.065, 0.068, 0.071, 0.074, 0.077, 0.08 ,\n",
       "       0.083, 0.086, 0.089, 0.092, 0.095, 0.098, 0.101, 0.104, 0.107,\n",
       "       0.11 , 0.113, 0.116, 0.119, 0.122, 0.125, 0.128, 0.131, 0.134,\n",
       "       0.137, 0.14 , 0.143, 0.146, 0.149, 0.152, 0.155, 0.158, 0.161,\n",
       "       0.164, 0.167, 0.17 , 0.173, 0.176, 0.179])"
      ]
     },
     "execution_count": 13,
     "metadata": {},
     "output_type": "execute_result"
    }
   ],
   "source": [
    "num_r = 60\n",
    "r_bar = np.array([i for i in range(num_r)])*0.003+0.002\n",
    "r_bar\n"
   ]
  },
  {
   "cell_type": "code",
   "execution_count": 19,
   "id": "2c1cd1ff",
   "metadata": {},
   "outputs": [],
   "source": [
    "ann_ret = ratios.annualised_returns(df.fillna(method = 'bfill').pct_change(),250) #annualised returns, period = 250 as we are using daily data and there are about 250 trading days\n",
    "ann_cov = df.pct_change().fillna(method = 'bfill').cov() #Covariance Matrix\n",
    "port_ret_list = []\n",
    "port_var_list = []\n",
    "for i in range(len(r_bar)):\n",
    "    r = r_bar[i]\n",
    "    sol = f.minimise_volatility_full(r,ann_ret,ann_cov)\n",
    "    if sol['success'] == True:\n",
    "        port_ret_list.append(f.pf_returns(sol.x,df))\n",
    "        port_var_list.append(f.portfolio_variance(sol.x,ann_cov))\n",
    "\n",
    "port_vol = np.asarray(port_var_list)\n",
    "port_return = 1+np.asarray(port_ret_list)"
   ]
  },
  {
   "cell_type": "code",
   "execution_count": 21,
   "id": "214ad5ae",
   "metadata": {},
   "outputs": [
    {
     "data": {
      "image/png": "[encoded data removed]",
      "text/plain": [
       "<Figure size 792x432 with 1 Axes>"
      ]
     },
     "metadata": {},
     "output_type": "display_data"
    }
   ],
   "source": [
    "# Plotting efficient frontier\n",
    "plt.rcParams['figure.figsize'] = (11, 6)\n",
    "plt.plot(port_vol/14.4, (port_return**(1/14.4)-1), 'ro--', label='efficient_frontier')\n",
    "plt.xlabel('Annualized Volatility')\n",
    "plt.ylabel('Annualized Return')\n",
    "plt.grid(True, linestyle='--')\n",
    "plt.legend()\n",
    "plt.title('Efficient Frontier (2008-01-01 to 2022-04-05)')\n",
    "\n",
    "plt.show()\n",
    "#Global Minimum Variance Portfolio wil be achieved when the target return is set at around 10%\n"
   ]
  },
  {
   "cell_type": "markdown",
   "id": "48c8fe70",
   "metadata": {},
   "source": [
    "## Next we apply the GMV iteratively to backtest the Minimum Variance Portfolio Strategy"
   ]
  },
  {
   "cell_type": "code",
   "execution_count": 22,
   "id": "ce1f84d6",
   "metadata": {},
   "outputs": [
    {
     "data": {
      "text/html": [
       "<div>\n",
       "<style scoped>\n",
       "    .dataframe tbody tr th:only-of-type {\n",
       "        vertical-align: middle;\n",
       "    }\n",
       "\n",
       "    .dataframe tbody tr th {\n",
       "        vertical-align: top;\n",
       "    }\n",
       "\n",
       "    .dataframe thead tr th {\n",
       "        text-align: left;\n",
       "    }\n",
       "\n",
       "    .dataframe thead tr:last-of-type th {\n",
       "        text-align: right;\n",
       "    }\n",
       "</style>\n",
       "<table border=\"1\" class=\"dataframe\">\n",
       "  <thead>\n",
       "    <tr>\n",
       "      <th></th>\n",
       "      <th>Gold</th>\n",
       "      <th>2 Year Bond</th>\n",
       "      <th>10-20 year Bond</th>\n",
       "      <th>20 Year Bond</th>\n",
       "      <th>Dow</th>\n",
       "      <th>FTSE</th>\n",
       "      <th>S&amp;P500</th>\n",
       "      <th>HSI</th>\n",
       "      <th>Nasdaq</th>\n",
       "      <th>Kospi</th>\n",
       "      <th>Nikkei</th>\n",
       "      <th>Nifty</th>\n",
       "      <th>Russell2k</th>\n",
       "      <th>STI</th>\n",
       "      <th>Vix</th>\n",
       "    </tr>\n",
       "    <tr>\n",
       "      <th>Date</th>\n",
       "      <th></th>\n",
       "      <th></th>\n",
       "      <th></th>\n",
       "      <th></th>\n",
       "      <th></th>\n",
       "      <th></th>\n",
       "      <th></th>\n",
       "      <th></th>\n",
       "      <th></th>\n",
       "      <th></th>\n",
       "      <th></th>\n",
       "      <th></th>\n",
       "      <th></th>\n",
       "      <th></th>\n",
       "      <th></th>\n",
       "    </tr>\n",
       "  </thead>\n",
       "  <tbody>\n",
       "    <tr>\n",
       "      <th>2008-01-01</th>\n",
       "      <td>NaN</td>\n",
       "      <td>NaN</td>\n",
       "      <td>NaN</td>\n",
       "      <td>NaN</td>\n",
       "      <td>NaN</td>\n",
       "      <td>NaN</td>\n",
       "      <td>NaN</td>\n",
       "      <td>NaN</td>\n",
       "      <td>NaN</td>\n",
       "      <td>NaN</td>\n",
       "      <td>NaN</td>\n",
       "      <td>6144.350098</td>\n",
       "      <td>NaN</td>\n",
       "      <td>NaN</td>\n",
       "      <td>NaN</td>\n",
       "    </tr>\n",
       "    <tr>\n",
       "      <th>2008-01-02</th>\n",
       "      <td>84.860001</td>\n",
       "      <td>70.149612</td>\n",
       "      <td>74.257675</td>\n",
       "      <td>63.100178</td>\n",
       "      <td>13043.959961</td>\n",
       "      <td>6416.700195</td>\n",
       "      <td>1447.160034</td>\n",
       "      <td>27560.519531</td>\n",
       "      <td>2609.629883</td>\n",
       "      <td>1853.449951</td>\n",
       "      <td>NaN</td>\n",
       "      <td>6179.399902</td>\n",
       "      <td>753.549988</td>\n",
       "      <td>3461.219971</td>\n",
       "      <td>23.170000</td>\n",
       "    </tr>\n",
       "    <tr>\n",
       "      <th>2008-01-03</th>\n",
       "      <td>85.570000</td>\n",
       "      <td>70.260345</td>\n",
       "      <td>74.229683</td>\n",
       "      <td>63.013294</td>\n",
       "      <td>13056.719727</td>\n",
       "      <td>6479.399902</td>\n",
       "      <td>1447.160034</td>\n",
       "      <td>26887.279297</td>\n",
       "      <td>2602.679932</td>\n",
       "      <td>1852.729980</td>\n",
       "      <td>NaN</td>\n",
       "      <td>6178.549805</td>\n",
       "      <td>745.010010</td>\n",
       "      <td>3397.060059</td>\n",
       "      <td>22.490000</td>\n",
       "    </tr>\n",
       "    <tr>\n",
       "      <th>2008-01-04</th>\n",
       "      <td>85.129997</td>\n",
       "      <td>70.362625</td>\n",
       "      <td>74.362556</td>\n",
       "      <td>63.026665</td>\n",
       "      <td>12800.179688</td>\n",
       "      <td>6348.500000</td>\n",
       "      <td>1411.630005</td>\n",
       "      <td>27519.689453</td>\n",
       "      <td>2504.649902</td>\n",
       "      <td>1863.900024</td>\n",
       "      <td>14691.410156</td>\n",
       "      <td>6274.299805</td>\n",
       "      <td>721.599976</td>\n",
       "      <td>3437.790039</td>\n",
       "      <td>23.940001</td>\n",
       "    </tr>\n",
       "    <tr>\n",
       "      <th>2008-01-07</th>\n",
       "      <td>84.769997</td>\n",
       "      <td>70.320053</td>\n",
       "      <td>74.572411</td>\n",
       "      <td>63.300777</td>\n",
       "      <td>12827.490234</td>\n",
       "      <td>6335.700195</td>\n",
       "      <td>1416.180054</td>\n",
       "      <td>27179.490234</td>\n",
       "      <td>2499.459961</td>\n",
       "      <td>1831.140015</td>\n",
       "      <td>14500.549805</td>\n",
       "      <td>6279.100098</td>\n",
       "      <td>723.950012</td>\n",
       "      <td>3353.060059</td>\n",
       "      <td>23.790001</td>\n",
       "    </tr>\n",
       "    <tr>\n",
       "      <th>...</th>\n",
       "      <td>...</td>\n",
       "      <td>...</td>\n",
       "      <td>...</td>\n",
       "      <td>...</td>\n",
       "      <td>...</td>\n",
       "      <td>...</td>\n",
       "      <td>...</td>\n",
       "      <td>...</td>\n",
       "      <td>...</td>\n",
       "      <td>...</td>\n",
       "      <td>...</td>\n",
       "      <td>...</td>\n",
       "      <td>...</td>\n",
       "      <td>...</td>\n",
       "      <td>...</td>\n",
       "    </tr>\n",
       "    <tr>\n",
       "      <th>2022-04-25</th>\n",
       "      <td>177.050003</td>\n",
       "      <td>83.010002</td>\n",
       "      <td>125.370003</td>\n",
       "      <td>121.190002</td>\n",
       "      <td>34049.460938</td>\n",
       "      <td>7380.500000</td>\n",
       "      <td>4296.120117</td>\n",
       "      <td>19869.339844</td>\n",
       "      <td>13004.849609</td>\n",
       "      <td>2657.129883</td>\n",
       "      <td>26590.779297</td>\n",
       "      <td>16953.949219</td>\n",
       "      <td>1954.199951</td>\n",
       "      <td>3339.590088</td>\n",
       "      <td>27.020000</td>\n",
       "    </tr>\n",
       "    <tr>\n",
       "      <th>2022-04-26</th>\n",
       "      <td>177.320007</td>\n",
       "      <td>83.160004</td>\n",
       "      <td>126.599998</td>\n",
       "      <td>122.410004</td>\n",
       "      <td>33240.179688</td>\n",
       "      <td>7386.200195</td>\n",
       "      <td>4175.200195</td>\n",
       "      <td>19934.710938</td>\n",
       "      <td>12490.740234</td>\n",
       "      <td>2668.310059</td>\n",
       "      <td>26700.109375</td>\n",
       "      <td>17200.800781</td>\n",
       "      <td>1890.469971</td>\n",
       "      <td>3322.050049</td>\n",
       "      <td>33.520000</td>\n",
       "    </tr>\n",
       "    <tr>\n",
       "      <th>2022-04-27</th>\n",
       "      <td>175.979996</td>\n",
       "      <td>83.120003</td>\n",
       "      <td>125.349998</td>\n",
       "      <td>120.839996</td>\n",
       "      <td>33301.929688</td>\n",
       "      <td>7425.600098</td>\n",
       "      <td>4183.959961</td>\n",
       "      <td>19946.359375</td>\n",
       "      <td>12488.929688</td>\n",
       "      <td>2639.060059</td>\n",
       "      <td>26386.630859</td>\n",
       "      <td>17038.400391</td>\n",
       "      <td>1884.040039</td>\n",
       "      <td>3320.669922</td>\n",
       "      <td>31.600000</td>\n",
       "    </tr>\n",
       "    <tr>\n",
       "      <th>2022-04-28</th>\n",
       "      <td>176.929993</td>\n",
       "      <td>83.059998</td>\n",
       "      <td>125.309998</td>\n",
       "      <td>121.019997</td>\n",
       "      <td>33916.390625</td>\n",
       "      <td>7509.200195</td>\n",
       "      <td>4287.500000</td>\n",
       "      <td>20276.169922</td>\n",
       "      <td>12871.530273</td>\n",
       "      <td>2667.489990</td>\n",
       "      <td>26847.900391</td>\n",
       "      <td>17245.050781</td>\n",
       "      <td>1917.939941</td>\n",
       "      <td>3335.090088</td>\n",
       "      <td>29.990000</td>\n",
       "    </tr>\n",
       "    <tr>\n",
       "      <th>2022-04-29</th>\n",
       "      <td>176.910004</td>\n",
       "      <td>82.900002</td>\n",
       "      <td>123.940002</td>\n",
       "      <td>119.449997</td>\n",
       "      <td>32977.210938</td>\n",
       "      <td>7544.600098</td>\n",
       "      <td>4131.930176</td>\n",
       "      <td>21089.390625</td>\n",
       "      <td>12334.639648</td>\n",
       "      <td>2695.050049</td>\n",
       "      <td>NaN</td>\n",
       "      <td>17102.550781</td>\n",
       "      <td>1864.099976</td>\n",
       "      <td>3356.899902</td>\n",
       "      <td>33.400002</td>\n",
       "    </tr>\n",
       "  </tbody>\n",
       "</table>\n",
       "<p>3731 rows × 15 columns</p>\n",
       "</div>"
      ],
      "text/plain": [
       "                  Gold 2 Year Bond 10-20 year Bond 20 Year Bond           Dow  \\\n",
       "Date                                                                            \n",
       "2008-01-01         NaN         NaN             NaN          NaN           NaN   \n",
       "2008-01-02   84.860001   70.149612       74.257675    63.100178  13043.959961   \n",
       "2008-01-03   85.570000   70.260345       74.229683    63.013294  13056.719727   \n",
       "2008-01-04   85.129997   70.362625       74.362556    63.026665  12800.179688   \n",
       "2008-01-07   84.769997   70.320053       74.572411    63.300777  12827.490234   \n",
       "...                ...         ...             ...          ...           ...   \n",
       "2022-04-25  177.050003   83.010002      125.370003   121.190002  34049.460938   \n",
       "2022-04-26  177.320007   83.160004      126.599998   122.410004  33240.179688   \n",
       "2022-04-27  175.979996   83.120003      125.349998   120.839996  33301.929688   \n",
       "2022-04-28  176.929993   83.059998      125.309998   121.019997  33916.390625   \n",
       "2022-04-29  176.910004   82.900002      123.940002   119.449997  32977.210938   \n",
       "\n",
       "                   FTSE       S&P500           HSI        Nasdaq        Kospi  \\\n",
       "Date                                                                            \n",
       "2008-01-01          NaN          NaN           NaN           NaN          NaN   \n",
       "2008-01-02  6416.700195  1447.160034  27560.519531   2609.629883  1853.449951   \n",
       "2008-01-03  6479.399902  1447.160034  26887.279297   2602.679932  1852.729980   \n",
       "2008-01-04  6348.500000  1411.630005  27519.689453   2504.649902  1863.900024   \n",
       "2008-01-07  6335.700195  1416.180054  27179.490234   2499.459961  1831.140015   \n",
       "...                 ...          ...           ...           ...          ...   \n",
       "2022-04-25  7380.500000  4296.120117  19869.339844  13004.849609  2657.129883   \n",
       "2022-04-26  7386.200195  4175.200195  19934.710938  12490.740234  2668.310059   \n",
       "2022-04-27  7425.600098  4183.959961  19946.359375  12488.929688  2639.060059   \n",
       "2022-04-28  7509.200195  4287.500000  20276.169922  12871.530273  2667.489990   \n",
       "2022-04-29  7544.600098  4131.930176  21089.390625  12334.639648  2695.050049   \n",
       "\n",
       "                  Nikkei         Nifty    Russell2k          STI        Vix  \n",
       "Date                                                                         \n",
       "2008-01-01           NaN   6144.350098          NaN          NaN        NaN  \n",
       "2008-01-02           NaN   6179.399902   753.549988  3461.219971  23.170000  \n",
       "2008-01-03           NaN   6178.549805   745.010010  3397.060059  22.490000  \n",
       "2008-01-04  14691.410156   6274.299805   721.599976  3437.790039  23.940001  \n",
       "2008-01-07  14500.549805   6279.100098   723.950012  3353.060059  23.790001  \n",
       "...                  ...           ...          ...          ...        ...  \n",
       "2022-04-25  26590.779297  16953.949219  1954.199951  3339.590088  27.020000  \n",
       "2022-04-26  26700.109375  17200.800781  1890.469971  3322.050049  33.520000  \n",
       "2022-04-27  26386.630859  17038.400391  1884.040039  3320.669922  31.600000  \n",
       "2022-04-28  26847.900391  17245.050781  1917.939941  3335.090088  29.990000  \n",
       "2022-04-29           NaN  17102.550781  1864.099976  3356.899902  33.400002  \n",
       "\n",
       "[3731 rows x 15 columns]"
      ]
     },
     "execution_count": 22,
     "metadata": {},
     "output_type": "execute_result"
    }
   ],
   "source": [
    "df['2008-01-01':]"
   ]
  },
  {
   "cell_type": "markdown",
   "id": "bcfd4af9",
   "metadata": {},
   "source": [
    "### Step 1 Get our returns dataframe which shows the daily returns instead of closing price for each asset"
   ]
  },
  {
   "cell_type": "code",
   "execution_count": 23,
   "id": "191c05e4",
   "metadata": {},
   "outputs": [
    {
     "data": {
      "text/html": [
       "<div>\n",
       "<style scoped>\n",
       "    .dataframe tbody tr th:only-of-type {\n",
       "        vertical-align: middle;\n",
       "    }\n",
       "\n",
       "    .dataframe tbody tr th {\n",
       "        vertical-align: top;\n",
       "    }\n",
       "\n",
       "    .dataframe thead tr th {\n",
       "        text-align: left;\n",
       "    }\n",
       "\n",
       "    .dataframe thead tr:last-of-type th {\n",
       "        text-align: right;\n",
       "    }\n",
       "</style>\n",
       "<table border=\"1\" class=\"dataframe\">\n",
       "  <thead>\n",
       "    <tr>\n",
       "      <th></th>\n",
       "      <th>Gold</th>\n",
       "      <th>2 Year Bond</th>\n",
       "      <th>10-20 year Bond</th>\n",
       "      <th>20 Year Bond</th>\n",
       "      <th>Dow</th>\n",
       "      <th>FTSE</th>\n",
       "      <th>S&amp;P500</th>\n",
       "      <th>HSI</th>\n",
       "      <th>Nasdaq</th>\n",
       "      <th>Kospi</th>\n",
       "      <th>Nikkei</th>\n",
       "      <th>Nifty</th>\n",
       "      <th>Russell2k</th>\n",
       "      <th>STI</th>\n",
       "      <th>Vix</th>\n",
       "    </tr>\n",
       "    <tr>\n",
       "      <th>Date</th>\n",
       "      <th></th>\n",
       "      <th></th>\n",
       "      <th></th>\n",
       "      <th></th>\n",
       "      <th></th>\n",
       "      <th></th>\n",
       "      <th></th>\n",
       "      <th></th>\n",
       "      <th></th>\n",
       "      <th></th>\n",
       "      <th></th>\n",
       "      <th></th>\n",
       "      <th></th>\n",
       "      <th></th>\n",
       "      <th></th>\n",
       "    </tr>\n",
       "  </thead>\n",
       "  <tbody>\n",
       "    <tr>\n",
       "      <th>2007-01-02</th>\n",
       "      <td>NaN</td>\n",
       "      <td>NaN</td>\n",
       "      <td>NaN</td>\n",
       "      <td>NaN</td>\n",
       "      <td>NaN</td>\n",
       "      <td>NaN</td>\n",
       "      <td>NaN</td>\n",
       "      <td>NaN</td>\n",
       "      <td>NaN</td>\n",
       "      <td>NaN</td>\n",
       "      <td>NaN</td>\n",
       "      <td>NaN</td>\n",
       "      <td>NaN</td>\n",
       "      <td>NaN</td>\n",
       "      <td>NaN</td>\n",
       "    </tr>\n",
       "    <tr>\n",
       "      <th>2007-01-03</th>\n",
       "      <td>NaN</td>\n",
       "      <td>NaN</td>\n",
       "      <td>NaN</td>\n",
       "      <td>NaN</td>\n",
       "      <td>NaN</td>\n",
       "      <td>0.001284</td>\n",
       "      <td>NaN</td>\n",
       "      <td>0.005082</td>\n",
       "      <td>NaN</td>\n",
       "      <td>-0.018053</td>\n",
       "      <td>NaN</td>\n",
       "      <td>NaN</td>\n",
       "      <td>NaN</td>\n",
       "      <td>NaN</td>\n",
       "      <td>NaN</td>\n",
       "    </tr>\n",
       "    <tr>\n",
       "      <th>2007-01-04</th>\n",
       "      <td>-0.010116</td>\n",
       "      <td>0.000999</td>\n",
       "      <td>NaN</td>\n",
       "      <td>0.006063</td>\n",
       "      <td>0.000495</td>\n",
       "      <td>-0.005064</td>\n",
       "      <td>0.001228</td>\n",
       "      <td>-0.018998</td>\n",
       "      <td>0.012492</td>\n",
       "      <td>-0.008557</td>\n",
       "      <td>NaN</td>\n",
       "      <td>NaN</td>\n",
       "      <td>0.003213</td>\n",
       "      <td>-0.004589</td>\n",
       "      <td>-0.044020</td>\n",
       "    </tr>\n",
       "    <tr>\n",
       "      <th>2007-01-05</th>\n",
       "      <td>-0.024007</td>\n",
       "      <td>-0.000624</td>\n",
       "      <td>NaN</td>\n",
       "      <td>-0.004353</td>\n",
       "      <td>-0.006625</td>\n",
       "      <td>-0.010641</td>\n",
       "      <td>-0.006085</td>\n",
       "      <td>0.009273</td>\n",
       "      <td>-0.007818</td>\n",
       "      <td>-0.008252</td>\n",
       "      <td>-0.015102</td>\n",
       "      <td>NaN</td>\n",
       "      <td>-0.017824</td>\n",
       "      <td>0.001733</td>\n",
       "      <td>0.054735</td>\n",
       "    </tr>\n",
       "    <tr>\n",
       "      <th>2007-01-08</th>\n",
       "      <td>0.005152</td>\n",
       "      <td>-0.000624</td>\n",
       "      <td>NaN</td>\n",
       "      <td>0.001793</td>\n",
       "      <td>0.002055</td>\n",
       "      <td>-0.004164</td>\n",
       "      <td>0.002220</td>\n",
       "      <td>-0.008986</td>\n",
       "      <td>0.001623</td>\n",
       "      <td>-0.010788</td>\n",
       "      <td>NaN</td>\n",
       "      <td>NaN</td>\n",
       "      <td>0.001444</td>\n",
       "      <td>-0.009587</td>\n",
       "      <td>-0.011532</td>\n",
       "    </tr>\n",
       "    <tr>\n",
       "      <th>...</th>\n",
       "      <td>...</td>\n",
       "      <td>...</td>\n",
       "      <td>...</td>\n",
       "      <td>...</td>\n",
       "      <td>...</td>\n",
       "      <td>...</td>\n",
       "      <td>...</td>\n",
       "      <td>...</td>\n",
       "      <td>...</td>\n",
       "      <td>...</td>\n",
       "      <td>...</td>\n",
       "      <td>...</td>\n",
       "      <td>...</td>\n",
       "      <td>...</td>\n",
       "      <td>...</td>\n",
       "    </tr>\n",
       "    <tr>\n",
       "      <th>2022-04-25</th>\n",
       "      <td>-0.017971</td>\n",
       "      <td>0.001569</td>\n",
       "      <td>0.007716</td>\n",
       "      <td>0.010001</td>\n",
       "      <td>0.007041</td>\n",
       "      <td>-0.018772</td>\n",
       "      <td>0.005698</td>\n",
       "      <td>-0.037269</td>\n",
       "      <td>0.012895</td>\n",
       "      <td>-0.017592</td>\n",
       "      <td>-0.018981</td>\n",
       "      <td>-0.012695</td>\n",
       "      <td>0.006977</td>\n",
       "      <td>-0.006403</td>\n",
       "      <td>-0.042184</td>\n",
       "    </tr>\n",
       "    <tr>\n",
       "      <th>2022-04-26</th>\n",
       "      <td>0.001525</td>\n",
       "      <td>0.001807</td>\n",
       "      <td>0.009811</td>\n",
       "      <td>0.010067</td>\n",
       "      <td>-0.023768</td>\n",
       "      <td>0.000772</td>\n",
       "      <td>-0.028146</td>\n",
       "      <td>0.003290</td>\n",
       "      <td>-0.039532</td>\n",
       "      <td>0.004208</td>\n",
       "      <td>0.004112</td>\n",
       "      <td>0.014560</td>\n",
       "      <td>-0.032612</td>\n",
       "      <td>-0.005252</td>\n",
       "      <td>0.240563</td>\n",
       "    </tr>\n",
       "    <tr>\n",
       "      <th>2022-04-27</th>\n",
       "      <td>-0.007557</td>\n",
       "      <td>-0.000481</td>\n",
       "      <td>-0.009874</td>\n",
       "      <td>-0.012826</td>\n",
       "      <td>0.001858</td>\n",
       "      <td>0.005334</td>\n",
       "      <td>0.002098</td>\n",
       "      <td>0.000584</td>\n",
       "      <td>-0.000145</td>\n",
       "      <td>-0.010962</td>\n",
       "      <td>-0.011741</td>\n",
       "      <td>-0.009441</td>\n",
       "      <td>-0.003401</td>\n",
       "      <td>-0.000415</td>\n",
       "      <td>-0.057279</td>\n",
       "    </tr>\n",
       "    <tr>\n",
       "      <th>2022-04-28</th>\n",
       "      <td>0.005398</td>\n",
       "      <td>-0.000722</td>\n",
       "      <td>-0.000319</td>\n",
       "      <td>0.001490</td>\n",
       "      <td>0.018451</td>\n",
       "      <td>0.011258</td>\n",
       "      <td>0.024747</td>\n",
       "      <td>0.016535</td>\n",
       "      <td>0.030635</td>\n",
       "      <td>0.010773</td>\n",
       "      <td>0.017481</td>\n",
       "      <td>0.012129</td>\n",
       "      <td>0.017993</td>\n",
       "      <td>0.004343</td>\n",
       "      <td>-0.050949</td>\n",
       "    </tr>\n",
       "    <tr>\n",
       "      <th>2022-04-29</th>\n",
       "      <td>-0.000113</td>\n",
       "      <td>-0.001926</td>\n",
       "      <td>-0.010933</td>\n",
       "      <td>-0.012973</td>\n",
       "      <td>-0.027691</td>\n",
       "      <td>0.004714</td>\n",
       "      <td>-0.036285</td>\n",
       "      <td>0.040107</td>\n",
       "      <td>-0.041711</td>\n",
       "      <td>0.010332</td>\n",
       "      <td>NaN</td>\n",
       "      <td>-0.008263</td>\n",
       "      <td>-0.028072</td>\n",
       "      <td>0.006539</td>\n",
       "      <td>0.113705</td>\n",
       "    </tr>\n",
       "  </tbody>\n",
       "</table>\n",
       "<p>3991 rows × 15 columns</p>\n",
       "</div>"
      ],
      "text/plain": [
       "                Gold 2 Year Bond 10-20 year Bond 20 Year Bond       Dow  \\\n",
       "Date                                                                      \n",
       "2007-01-02       NaN         NaN             NaN          NaN       NaN   \n",
       "2007-01-03       NaN         NaN             NaN          NaN       NaN   \n",
       "2007-01-04 -0.010116    0.000999             NaN     0.006063  0.000495   \n",
       "2007-01-05 -0.024007   -0.000624             NaN    -0.004353 -0.006625   \n",
       "2007-01-08  0.005152   -0.000624             NaN     0.001793  0.002055   \n",
       "...              ...         ...             ...          ...       ...   \n",
       "2022-04-25 -0.017971    0.001569        0.007716     0.010001  0.007041   \n",
       "2022-04-26  0.001525    0.001807        0.009811     0.010067 -0.023768   \n",
       "2022-04-27 -0.007557   -0.000481       -0.009874    -0.012826  0.001858   \n",
       "2022-04-28  0.005398   -0.000722       -0.000319     0.001490  0.018451   \n",
       "2022-04-29 -0.000113   -0.001926       -0.010933    -0.012973 -0.027691   \n",
       "\n",
       "                FTSE    S&P500       HSI    Nasdaq     Kospi    Nikkei  \\\n",
       "Date                                                                     \n",
       "2007-01-02       NaN       NaN       NaN       NaN       NaN       NaN   \n",
       "2007-01-03  0.001284       NaN  0.005082       NaN -0.018053       NaN   \n",
       "2007-01-04 -0.005064  0.001228 -0.018998  0.012492 -0.008557       NaN   \n",
       "2007-01-05 -0.010641 -0.006085  0.009273 -0.007818 -0.008252 -0.015102   \n",
       "2007-01-08 -0.004164  0.002220 -0.008986  0.001623 -0.010788       NaN   \n",
       "...              ...       ...       ...       ...       ...       ...   \n",
       "2022-04-25 -0.018772  0.005698 -0.037269  0.012895 -0.017592 -0.018981   \n",
       "2022-04-26  0.000772 -0.028146  0.003290 -0.039532  0.004208  0.004112   \n",
       "2022-04-27  0.005334  0.002098  0.000584 -0.000145 -0.010962 -0.011741   \n",
       "2022-04-28  0.011258  0.024747  0.016535  0.030635  0.010773  0.017481   \n",
       "2022-04-29  0.004714 -0.036285  0.040107 -0.041711  0.010332       NaN   \n",
       "\n",
       "               Nifty Russell2k       STI       Vix  \n",
       "Date                                                \n",
       "2007-01-02       NaN       NaN       NaN       NaN  \n",
       "2007-01-03       NaN       NaN       NaN       NaN  \n",
       "2007-01-04       NaN  0.003213 -0.004589 -0.044020  \n",
       "2007-01-05       NaN -0.017824  0.001733  0.054735  \n",
       "2007-01-08       NaN  0.001444 -0.009587 -0.011532  \n",
       "...              ...       ...       ...       ...  \n",
       "2022-04-25 -0.012695  0.006977 -0.006403 -0.042184  \n",
       "2022-04-26  0.014560 -0.032612 -0.005252  0.240563  \n",
       "2022-04-27 -0.009441 -0.003401 -0.000415 -0.057279  \n",
       "2022-04-28  0.012129  0.017993  0.004343 -0.050949  \n",
       "2022-04-29 -0.008263 -0.028072  0.006539  0.113705  \n",
       "\n",
       "[3991 rows x 15 columns]"
      ]
     },
     "execution_count": 23,
     "metadata": {},
     "output_type": "execute_result"
    }
   ],
   "source": [
    "returns = (df-df.shift(1))/df.shift(1)\n",
    "returns"
   ]
  },
  {
   "cell_type": "code",
   "execution_count": 24,
   "id": "8b8f3298",
   "metadata": {},
   "outputs": [
    {
     "data": {
      "text/plain": [
       "Gold               0.054414\n",
       "2 Year Bond        0.014744\n",
       "10-20 year Bond    0.036261\n",
       "20 Year Bond       0.041273\n",
       "Dow                0.065284\n",
       "FTSE               0.002744\n",
       "S&P500             0.070100\n",
       "HSI                0.000891\n",
       "Nasdaq             0.101243\n",
       "Kospi              0.063091\n",
       "Nikkei             0.005277\n",
       "Nifty              0.057716\n",
       "Russell2k          0.063716\n",
       "STI               -0.005139\n",
       "Vix               -0.208050\n",
       "dtype: float64"
      ]
     },
     "execution_count": 24,
     "metadata": {},
     "output_type": "execute_result"
    }
   ],
   "source": [
    "ratios.annualised_returns(returns)"
   ]
  },
  {
   "cell_type": "code",
   "execution_count": 25,
   "id": "e1137cb5",
   "metadata": {},
   "outputs": [
    {
     "data": {
      "text/plain": [
       "Gold              -0.136851\n",
       "2 Year Bond       -0.349050\n",
       "10-20 year Bond   -0.148991\n",
       "20 Year Bond      -0.164596\n",
       "Dow               -0.114215\n",
       "FTSE              -0.027737\n",
       "S&P500            -0.124180\n",
       "HSI                0.015559\n",
       "Nasdaq            -0.196131\n",
       "Kospi             -0.044801\n",
       "Nikkei            -0.055927\n",
       "Nifty             -0.154560\n",
       "Russell2k         -0.099785\n",
       "STI                0.003704\n",
       "Vix               -0.017465\n",
       "dtype: float64"
      ]
     },
     "execution_count": 25,
     "metadata": {},
     "output_type": "execute_result"
    }
   ],
   "source": [
    "ratios.calmar_ratio(df)"
   ]
  },
  {
   "cell_type": "markdown",
   "id": "945a152f",
   "metadata": {},
   "source": [
    "## Step 2: Run our Minimum Variance Strategy Function (See functions.py file)\n",
    "1. The function will perform iteratively day by day, using the previous day's data to get the minimum variance portfolio weights for each asset class\n",
    "2. As each day passes, more days will be fed into the min vol strategy\n",
    "3. Maximum Threshold of 240 days\n",
    "4. 240 days will serve as a rolling window since we have to acknowledge that data that is too old will not be helpful in current economic circumstances\n",
    "5. Target return will be set at 10% as identified before from the above chart"
   ]
  },
  {
   "cell_type": "code",
   "execution_count": 26,
   "id": "b7b9bce0",
   "metadata": {},
   "outputs": [],
   "source": [
    "start_dt = '2007-01-01'\n",
    "end_dt = pd.to_datetime(pd.Timestamp.now())\n",
    "weights_ts = f.min_vol_strategy(start_dt = start_dt,data = df,lags = 240,rebals_per_year = 12)"
   ]
  },
  {
   "cell_type": "code",
   "execution_count": 27,
   "id": "120194ff",
   "metadata": {},
   "outputs": [
    {
     "data": {
      "text/html": [
       "<div>\n",
       "<style scoped>\n",
       "    .dataframe tbody tr th:only-of-type {\n",
       "        vertical-align: middle;\n",
       "    }\n",
       "\n",
       "    .dataframe tbody tr th {\n",
       "        vertical-align: top;\n",
       "    }\n",
       "\n",
       "    .dataframe thead tr th {\n",
       "        text-align: left;\n",
       "    }\n",
       "</style>\n",
       "<table border=\"1\" class=\"dataframe\">\n",
       "  <thead>\n",
       "    <tr>\n",
       "      <th></th>\n",
       "      <th>Gold</th>\n",
       "      <th>2 Year Bond</th>\n",
       "      <th>10-20 year Bond</th>\n",
       "      <th>20 Year Bond</th>\n",
       "      <th>Dow</th>\n",
       "      <th>FTSE</th>\n",
       "      <th>S&amp;P500</th>\n",
       "      <th>HSI</th>\n",
       "      <th>Nasdaq</th>\n",
       "      <th>Kospi</th>\n",
       "      <th>Nikkei</th>\n",
       "      <th>Nifty</th>\n",
       "      <th>Russell2k</th>\n",
       "      <th>STI</th>\n",
       "      <th>Vix</th>\n",
       "    </tr>\n",
       "  </thead>\n",
       "  <tbody>\n",
       "    <tr>\n",
       "      <th>2007-02-28</th>\n",
       "      <td>2.187496e-02</td>\n",
       "      <td>5.837599e-02</td>\n",
       "      <td>2.413090e-02</td>\n",
       "      <td>1.740532e-02</td>\n",
       "      <td>1.068617e-01</td>\n",
       "      <td>9.123125e-02</td>\n",
       "      <td>9.828226e-02</td>\n",
       "      <td>1.411251e-01</td>\n",
       "      <td>9.461522e-02</td>\n",
       "      <td>2.259843e-02</td>\n",
       "      <td>6.145310e-02</td>\n",
       "      <td>7.218626e-02</td>\n",
       "      <td>8.198690e-02</td>\n",
       "      <td>8.619923e-02</td>\n",
       "      <td>2.167343e-02</td>\n",
       "    </tr>\n",
       "    <tr>\n",
       "      <th>2007-03-29</th>\n",
       "      <td>2.803724e-17</td>\n",
       "      <td>2.561680e-17</td>\n",
       "      <td>0.000000e+00</td>\n",
       "      <td>0.000000e+00</td>\n",
       "      <td>2.000000e-01</td>\n",
       "      <td>2.333185e-02</td>\n",
       "      <td>2.000000e-01</td>\n",
       "      <td>2.000000e-01</td>\n",
       "      <td>2.000000e-01</td>\n",
       "      <td>0.000000e+00</td>\n",
       "      <td>4.723091e-02</td>\n",
       "      <td>1.079287e-02</td>\n",
       "      <td>6.225341e-02</td>\n",
       "      <td>0.000000e+00</td>\n",
       "      <td>5.639096e-02</td>\n",
       "    </tr>\n",
       "    <tr>\n",
       "      <th>2007-04-27</th>\n",
       "      <td>0.000000e+00</td>\n",
       "      <td>2.000000e-01</td>\n",
       "      <td>1.387630e-01</td>\n",
       "      <td>6.609163e-02</td>\n",
       "      <td>0.000000e+00</td>\n",
       "      <td>2.000000e-01</td>\n",
       "      <td>0.000000e+00</td>\n",
       "      <td>0.000000e+00</td>\n",
       "      <td>1.285509e-18</td>\n",
       "      <td>4.253274e-02</td>\n",
       "      <td>1.421086e-02</td>\n",
       "      <td>2.000000e-01</td>\n",
       "      <td>0.000000e+00</td>\n",
       "      <td>1.302805e-01</td>\n",
       "      <td>8.121310e-03</td>\n",
       "    </tr>\n",
       "    <tr>\n",
       "      <th>2007-05-28</th>\n",
       "      <td>2.298156e-18</td>\n",
       "      <td>2.000000e-01</td>\n",
       "      <td>7.534674e-02</td>\n",
       "      <td>7.863529e-03</td>\n",
       "      <td>0.000000e+00</td>\n",
       "      <td>2.000000e-01</td>\n",
       "      <td>0.000000e+00</td>\n",
       "      <td>4.634195e-02</td>\n",
       "      <td>0.000000e+00</td>\n",
       "      <td>6.592349e-02</td>\n",
       "      <td>1.004315e-01</td>\n",
       "      <td>2.000000e-01</td>\n",
       "      <td>7.225067e-18</td>\n",
       "      <td>8.584286e-02</td>\n",
       "      <td>1.824993e-02</td>\n",
       "    </tr>\n",
       "    <tr>\n",
       "      <th>2007-06-26</th>\n",
       "      <td>0.000000e+00</td>\n",
       "      <td>2.000000e-01</td>\n",
       "      <td>8.610669e-02</td>\n",
       "      <td>2.304406e-02</td>\n",
       "      <td>3.295157e-18</td>\n",
       "      <td>2.000000e-01</td>\n",
       "      <td>5.899397e-18</td>\n",
       "      <td>3.367837e-02</td>\n",
       "      <td>0.000000e+00</td>\n",
       "      <td>6.559673e-02</td>\n",
       "      <td>1.017865e-01</td>\n",
       "      <td>2.000000e-01</td>\n",
       "      <td>4.872506e-18</td>\n",
       "      <td>7.624249e-02</td>\n",
       "      <td>1.354513e-02</td>\n",
       "    </tr>\n",
       "    <tr>\n",
       "      <th>...</th>\n",
       "      <td>...</td>\n",
       "      <td>...</td>\n",
       "      <td>...</td>\n",
       "      <td>...</td>\n",
       "      <td>...</td>\n",
       "      <td>...</td>\n",
       "      <td>...</td>\n",
       "      <td>...</td>\n",
       "      <td>...</td>\n",
       "      <td>...</td>\n",
       "      <td>...</td>\n",
       "      <td>...</td>\n",
       "      <td>...</td>\n",
       "      <td>...</td>\n",
       "      <td>...</td>\n",
       "    </tr>\n",
       "    <tr>\n",
       "      <th>2021-12-31</th>\n",
       "      <td>2.000000e-01</td>\n",
       "      <td>5.343044e-13</td>\n",
       "      <td>6.411904e-17</td>\n",
       "      <td>1.024374e-17</td>\n",
       "      <td>2.000000e-01</td>\n",
       "      <td>3.055803e-14</td>\n",
       "      <td>2.000000e-01</td>\n",
       "      <td>2.606521e-13</td>\n",
       "      <td>2.000000e-01</td>\n",
       "      <td>2.342068e-16</td>\n",
       "      <td>2.894024e-18</td>\n",
       "      <td>2.509395e-16</td>\n",
       "      <td>2.000000e-01</td>\n",
       "      <td>4.302429e-17</td>\n",
       "      <td>1.036013e-12</td>\n",
       "    </tr>\n",
       "    <tr>\n",
       "      <th>2022-01-31</th>\n",
       "      <td>2.000000e-01</td>\n",
       "      <td>7.198280e-15</td>\n",
       "      <td>1.483618e-12</td>\n",
       "      <td>1.149043e-14</td>\n",
       "      <td>2.000000e-01</td>\n",
       "      <td>2.758976e-14</td>\n",
       "      <td>2.000000e-01</td>\n",
       "      <td>6.895236e-13</td>\n",
       "      <td>2.000000e-01</td>\n",
       "      <td>5.212865e-14</td>\n",
       "      <td>1.485777e-13</td>\n",
       "      <td>4.796488e-14</td>\n",
       "      <td>2.000000e-01</td>\n",
       "      <td>2.144917e-12</td>\n",
       "      <td>7.197133e-13</td>\n",
       "    </tr>\n",
       "    <tr>\n",
       "      <th>2022-03-01</th>\n",
       "      <td>2.000000e-01</td>\n",
       "      <td>8.120284e-19</td>\n",
       "      <td>6.160672e-13</td>\n",
       "      <td>3.731291e-19</td>\n",
       "      <td>2.000000e-01</td>\n",
       "      <td>7.466510e-19</td>\n",
       "      <td>2.000000e-01</td>\n",
       "      <td>1.408576e-21</td>\n",
       "      <td>2.000000e-01</td>\n",
       "      <td>3.160112e-19</td>\n",
       "      <td>1.437703e-19</td>\n",
       "      <td>1.324360e-22</td>\n",
       "      <td>2.000000e-01</td>\n",
       "      <td>5.071423e-19</td>\n",
       "      <td>5.659796e-19</td>\n",
       "    </tr>\n",
       "    <tr>\n",
       "      <th>2022-03-30</th>\n",
       "      <td>2.000000e-01</td>\n",
       "      <td>2.238822e-16</td>\n",
       "      <td>2.070225e-12</td>\n",
       "      <td>5.371892e-14</td>\n",
       "      <td>2.000000e-01</td>\n",
       "      <td>1.282419e-12</td>\n",
       "      <td>2.000000e-01</td>\n",
       "      <td>5.251015e-17</td>\n",
       "      <td>2.000000e-01</td>\n",
       "      <td>5.822218e-16</td>\n",
       "      <td>3.888430e-13</td>\n",
       "      <td>2.263127e-13</td>\n",
       "      <td>2.000000e-01</td>\n",
       "      <td>6.044626e-13</td>\n",
       "      <td>3.389241e-16</td>\n",
       "    </tr>\n",
       "    <tr>\n",
       "      <th>2022-04-28</th>\n",
       "      <td>2.000000e-01</td>\n",
       "      <td>8.967848e-14</td>\n",
       "      <td>2.093974e-12</td>\n",
       "      <td>3.528896e-16</td>\n",
       "      <td>2.000000e-01</td>\n",
       "      <td>7.304435e-13</td>\n",
       "      <td>2.000000e-01</td>\n",
       "      <td>5.126798e-13</td>\n",
       "      <td>2.000000e-01</td>\n",
       "      <td>4.216072e-13</td>\n",
       "      <td>3.084795e-13</td>\n",
       "      <td>1.017189e-13</td>\n",
       "      <td>2.000000e-01</td>\n",
       "      <td>1.066088e-16</td>\n",
       "      <td>3.327730e-16</td>\n",
       "    </tr>\n",
       "  </tbody>\n",
       "</table>\n",
       "<p>189 rows × 15 columns</p>\n",
       "</div>"
      ],
      "text/plain": [
       "                    Gold   2 Year Bond 10-20 year Bond  20 Year Bond  \\\n",
       "2007-02-28  2.187496e-02  5.837599e-02    2.413090e-02  1.740532e-02   \n",
       "2007-03-29  2.803724e-17  2.561680e-17    0.000000e+00  0.000000e+00   \n",
       "2007-04-27  0.000000e+00  2.000000e-01    1.387630e-01  6.609163e-02   \n",
       "2007-05-28  2.298156e-18  2.000000e-01    7.534674e-02  7.863529e-03   \n",
       "2007-06-26  0.000000e+00  2.000000e-01    8.610669e-02  2.304406e-02   \n",
       "...                  ...           ...             ...           ...   \n",
       "2021-12-31  2.000000e-01  5.343044e-13    6.411904e-17  1.024374e-17   \n",
       "2022-01-31  2.000000e-01  7.198280e-15    1.483618e-12  1.149043e-14   \n",
       "2022-03-01  2.000000e-01  8.120284e-19    6.160672e-13  3.731291e-19   \n",
       "2022-03-30  2.000000e-01  2.238822e-16    2.070225e-12  5.371892e-14   \n",
       "2022-04-28  2.000000e-01  8.967848e-14    2.093974e-12  3.528896e-16   \n",
       "\n",
       "                     Dow          FTSE        S&P500           HSI  \\\n",
       "2007-02-28  1.068617e-01  9.123125e-02  9.828226e-02  1.411251e-01   \n",
       "2007-03-29  2.000000e-01  2.333185e-02  2.000000e-01  2.000000e-01   \n",
       "2007-04-27  0.000000e+00  2.000000e-01  0.000000e+00  0.000000e+00   \n",
       "2007-05-28  0.000000e+00  2.000000e-01  0.000000e+00  4.634195e-02   \n",
       "2007-06-26  3.295157e-18  2.000000e-01  5.899397e-18  3.367837e-02   \n",
       "...                  ...           ...           ...           ...   \n",
       "2021-12-31  2.000000e-01  3.055803e-14  2.000000e-01  2.606521e-13   \n",
       "2022-01-31  2.000000e-01  2.758976e-14  2.000000e-01  6.895236e-13   \n",
       "2022-03-01  2.000000e-01  7.466510e-19  2.000000e-01  1.408576e-21   \n",
       "2022-03-30  2.000000e-01  1.282419e-12  2.000000e-01  5.251015e-17   \n",
       "2022-04-28  2.000000e-01  7.304435e-13  2.000000e-01  5.126798e-13   \n",
       "\n",
       "                  Nasdaq         Kospi        Nikkei         Nifty  \\\n",
       "2007-02-28  9.461522e-02  2.259843e-02  6.145310e-02  7.218626e-02   \n",
       "2007-03-29  2.000000e-01  0.000000e+00  4.723091e-02  1.079287e-02   \n",
       "2007-04-27  1.285509e-18  4.253274e-02  1.421086e-02  2.000000e-01   \n",
       "2007-05-28  0.000000e+00  6.592349e-02  1.004315e-01  2.000000e-01   \n",
       "2007-06-26  0.000000e+00  6.559673e-02  1.017865e-01  2.000000e-01   \n",
       "...                  ...           ...           ...           ...   \n",
       "2021-12-31  2.000000e-01  2.342068e-16  2.894024e-18  2.509395e-16   \n",
       "2022-01-31  2.000000e-01  5.212865e-14  1.485777e-13  4.796488e-14   \n",
       "2022-03-01  2.000000e-01  3.160112e-19  1.437703e-19  1.324360e-22   \n",
       "2022-03-30  2.000000e-01  5.822218e-16  3.888430e-13  2.263127e-13   \n",
       "2022-04-28  2.000000e-01  4.216072e-13  3.084795e-13  1.017189e-13   \n",
       "\n",
       "               Russell2k           STI           Vix  \n",
       "2007-02-28  8.198690e-02  8.619923e-02  2.167343e-02  \n",
       "2007-03-29  6.225341e-02  0.000000e+00  5.639096e-02  \n",
       "2007-04-27  0.000000e+00  1.302805e-01  8.121310e-03  \n",
       "2007-05-28  7.225067e-18  8.584286e-02  1.824993e-02  \n",
       "2007-06-26  4.872506e-18  7.624249e-02  1.354513e-02  \n",
       "...                  ...           ...           ...  \n",
       "2021-12-31  2.000000e-01  4.302429e-17  1.036013e-12  \n",
       "2022-01-31  2.000000e-01  2.144917e-12  7.197133e-13  \n",
       "2022-03-01  2.000000e-01  5.071423e-19  5.659796e-19  \n",
       "2022-03-30  2.000000e-01  6.044626e-13  3.389241e-16  \n",
       "2022-04-28  2.000000e-01  1.066088e-16  3.327730e-16  \n",
       "\n",
       "[189 rows x 15 columns]"
      ]
     },
     "execution_count": 27,
     "metadata": {},
     "output_type": "execute_result"
    }
   ],
   "source": [
    "#The weights for each asset class across as time-series data\n",
    "weights_ts"
   ]
  },
  {
   "cell_type": "code",
   "execution_count": 28,
   "id": "ccb906a2",
   "metadata": {},
   "outputs": [
    {
     "data": {
      "text/html": [
       "<div>\n",
       "<style scoped>\n",
       "    .dataframe tbody tr th:only-of-type {\n",
       "        vertical-align: middle;\n",
       "    }\n",
       "\n",
       "    .dataframe tbody tr th {\n",
       "        vertical-align: top;\n",
       "    }\n",
       "\n",
       "    .dataframe thead tr th {\n",
       "        text-align: left;\n",
       "    }\n",
       "</style>\n",
       "<table border=\"1\" class=\"dataframe\">\n",
       "  <thead>\n",
       "    <tr>\n",
       "      <th></th>\n",
       "      <th>Gold</th>\n",
       "      <th>2 Year Bond</th>\n",
       "      <th>10-20 year Bond</th>\n",
       "      <th>20 Year Bond</th>\n",
       "      <th>Dow</th>\n",
       "      <th>FTSE</th>\n",
       "      <th>S&amp;P500</th>\n",
       "      <th>HSI</th>\n",
       "      <th>Nasdaq</th>\n",
       "      <th>Kospi</th>\n",
       "      <th>Nikkei</th>\n",
       "      <th>Nifty</th>\n",
       "      <th>Russell2k</th>\n",
       "      <th>STI</th>\n",
       "      <th>Vix</th>\n",
       "    </tr>\n",
       "  </thead>\n",
       "  <tbody>\n",
       "    <tr>\n",
       "      <th>2007-02-28</th>\n",
       "      <td>66.480003</td>\n",
       "      <td>65.806976</td>\n",
       "      <td>68.254967</td>\n",
       "      <td>57.724350</td>\n",
       "      <td>12268.629883</td>\n",
       "      <td>6171.500000</td>\n",
       "      <td>1406.819946</td>\n",
       "      <td>19651.509766</td>\n",
       "      <td>2416.149902</td>\n",
       "      <td>1417.339966</td>\n",
       "      <td>17604.119141</td>\n",
       "      <td>NaN</td>\n",
       "      <td>793.299988</td>\n",
       "      <td>3104.149902</td>\n",
       "      <td>15.420000</td>\n",
       "    </tr>\n",
       "    <tr>\n",
       "      <th>2007-03-29</th>\n",
       "      <td>65.650002</td>\n",
       "      <td>66.103569</td>\n",
       "      <td>67.834160</td>\n",
       "      <td>56.852089</td>\n",
       "      <td>12348.750000</td>\n",
       "      <td>6324.200195</td>\n",
       "      <td>1422.530029</td>\n",
       "      <td>19821.779297</td>\n",
       "      <td>2417.879883</td>\n",
       "      <td>1450.949951</td>\n",
       "      <td>17263.939453</td>\n",
       "      <td>NaN</td>\n",
       "      <td>798.940002</td>\n",
       "      <td>3228.879883</td>\n",
       "      <td>15.140000</td>\n",
       "    </tr>\n",
       "    <tr>\n",
       "      <th>2007-04-27</th>\n",
       "      <td>67.559998</td>\n",
       "      <td>66.256104</td>\n",
       "      <td>67.776520</td>\n",
       "      <td>56.662838</td>\n",
       "      <td>13120.940430</td>\n",
       "      <td>6418.700195</td>\n",
       "      <td>1494.069946</td>\n",
       "      <td>20526.500000</td>\n",
       "      <td>2557.209961</td>\n",
       "      <td>1542.520020</td>\n",
       "      <td>17400.410156</td>\n",
       "      <td>NaN</td>\n",
       "      <td>829.700012</td>\n",
       "      <td>3398.600098</td>\n",
       "      <td>12.450000</td>\n",
       "    </tr>\n",
       "    <tr>\n",
       "      <th>2007-05-28</th>\n",
       "      <td>NaN</td>\n",
       "      <td>NaN</td>\n",
       "      <td>NaN</td>\n",
       "      <td>NaN</td>\n",
       "      <td>NaN</td>\n",
       "      <td>NaN</td>\n",
       "      <td>NaN</td>\n",
       "      <td>20529.759766</td>\n",
       "      <td>NaN</td>\n",
       "      <td>1657.910034</td>\n",
       "      <td>17587.589844</td>\n",
       "      <td>NaN</td>\n",
       "      <td>NaN</td>\n",
       "      <td>3513.370117</td>\n",
       "      <td>NaN</td>\n",
       "    </tr>\n",
       "    <tr>\n",
       "      <th>2007-06-26</th>\n",
       "      <td>63.619999</td>\n",
       "      <td>66.467674</td>\n",
       "      <td>66.030312</td>\n",
       "      <td>54.760197</td>\n",
       "      <td>13337.660156</td>\n",
       "      <td>6559.299805</td>\n",
       "      <td>1492.890015</td>\n",
       "      <td>21803.570312</td>\n",
       "      <td>2574.159912</td>\n",
       "      <td>1749.550049</td>\n",
       "      <td>18066.109375</td>\n",
       "      <td>NaN</td>\n",
       "      <td>826.130005</td>\n",
       "      <td>3525.100098</td>\n",
       "      <td>18.889999</td>\n",
       "    </tr>\n",
       "    <tr>\n",
       "      <th>...</th>\n",
       "      <td>...</td>\n",
       "      <td>...</td>\n",
       "      <td>...</td>\n",
       "      <td>...</td>\n",
       "      <td>...</td>\n",
       "      <td>...</td>\n",
       "      <td>...</td>\n",
       "      <td>...</td>\n",
       "      <td>...</td>\n",
       "      <td>...</td>\n",
       "      <td>...</td>\n",
       "      <td>...</td>\n",
       "      <td>...</td>\n",
       "      <td>...</td>\n",
       "      <td>...</td>\n",
       "    </tr>\n",
       "    <tr>\n",
       "      <th>2021-12-31</th>\n",
       "      <td>170.960007</td>\n",
       "      <td>85.454643</td>\n",
       "      <td>147.792282</td>\n",
       "      <td>147.562180</td>\n",
       "      <td>36338.300781</td>\n",
       "      <td>7384.500000</td>\n",
       "      <td>4766.180176</td>\n",
       "      <td>23397.669922</td>\n",
       "      <td>15644.969727</td>\n",
       "      <td>NaN</td>\n",
       "      <td>NaN</td>\n",
       "      <td>17354.050781</td>\n",
       "      <td>2245.310059</td>\n",
       "      <td>3123.679932</td>\n",
       "      <td>17.219999</td>\n",
       "    </tr>\n",
       "    <tr>\n",
       "      <th>2022-01-31</th>\n",
       "      <td>168.089996</td>\n",
       "      <td>84.865227</td>\n",
       "      <td>142.982086</td>\n",
       "      <td>141.786758</td>\n",
       "      <td>35131.859375</td>\n",
       "      <td>7464.399902</td>\n",
       "      <td>4515.549805</td>\n",
       "      <td>23802.259766</td>\n",
       "      <td>14239.879883</td>\n",
       "      <td>NaN</td>\n",
       "      <td>27001.980469</td>\n",
       "      <td>17339.849609</td>\n",
       "      <td>2028.449951</td>\n",
       "      <td>3249.590088</td>\n",
       "      <td>24.830000</td>\n",
       "    </tr>\n",
       "    <tr>\n",
       "      <th>2022-03-01</th>\n",
       "      <td>181.619995</td>\n",
       "      <td>84.693405</td>\n",
       "      <td>142.850204</td>\n",
       "      <td>141.083893</td>\n",
       "      <td>33294.949219</td>\n",
       "      <td>7330.200195</td>\n",
       "      <td>4306.259766</td>\n",
       "      <td>22761.710938</td>\n",
       "      <td>13532.459961</td>\n",
       "      <td>NaN</td>\n",
       "      <td>26844.720703</td>\n",
       "      <td>NaN</td>\n",
       "      <td>2008.510010</td>\n",
       "      <td>3278.629883</td>\n",
       "      <td>33.320000</td>\n",
       "    </tr>\n",
       "    <tr>\n",
       "      <th>2022-03-30</th>\n",
       "      <td>180.580002</td>\n",
       "      <td>83.314003</td>\n",
       "      <td>134.262222</td>\n",
       "      <td>131.558487</td>\n",
       "      <td>35228.808594</td>\n",
       "      <td>7578.799805</td>\n",
       "      <td>4602.450195</td>\n",
       "      <td>22232.029297</td>\n",
       "      <td>14442.269531</td>\n",
       "      <td>2746.739990</td>\n",
       "      <td>28027.250000</td>\n",
       "      <td>17498.250000</td>\n",
       "      <td>2091.070068</td>\n",
       "      <td>3442.610107</td>\n",
       "      <td>19.330000</td>\n",
       "    </tr>\n",
       "    <tr>\n",
       "      <th>2022-04-28</th>\n",
       "      <td>176.929993</td>\n",
       "      <td>83.059998</td>\n",
       "      <td>125.309998</td>\n",
       "      <td>121.019997</td>\n",
       "      <td>33916.390625</td>\n",
       "      <td>7509.200195</td>\n",
       "      <td>4287.500000</td>\n",
       "      <td>20276.169922</td>\n",
       "      <td>12871.530273</td>\n",
       "      <td>2667.489990</td>\n",
       "      <td>26847.900391</td>\n",
       "      <td>17245.050781</td>\n",
       "      <td>1917.939941</td>\n",
       "      <td>3335.090088</td>\n",
       "      <td>29.990000</td>\n",
       "    </tr>\n",
       "  </tbody>\n",
       "</table>\n",
       "<p>189 rows × 15 columns</p>\n",
       "</div>"
      ],
      "text/plain": [
       "                  Gold 2 Year Bond 10-20 year Bond 20 Year Bond           Dow  \\\n",
       "2007-02-28   66.480003   65.806976       68.254967    57.724350  12268.629883   \n",
       "2007-03-29   65.650002   66.103569       67.834160    56.852089  12348.750000   \n",
       "2007-04-27   67.559998   66.256104       67.776520    56.662838  13120.940430   \n",
       "2007-05-28         NaN         NaN             NaN          NaN           NaN   \n",
       "2007-06-26   63.619999   66.467674       66.030312    54.760197  13337.660156   \n",
       "...                ...         ...             ...          ...           ...   \n",
       "2021-12-31  170.960007   85.454643      147.792282   147.562180  36338.300781   \n",
       "2022-01-31  168.089996   84.865227      142.982086   141.786758  35131.859375   \n",
       "2022-03-01  181.619995   84.693405      142.850204   141.083893  33294.949219   \n",
       "2022-03-30  180.580002   83.314003      134.262222   131.558487  35228.808594   \n",
       "2022-04-28  176.929993   83.059998      125.309998   121.019997  33916.390625   \n",
       "\n",
       "                   FTSE       S&P500           HSI        Nasdaq        Kospi  \\\n",
       "2007-02-28  6171.500000  1406.819946  19651.509766   2416.149902  1417.339966   \n",
       "2007-03-29  6324.200195  1422.530029  19821.779297   2417.879883  1450.949951   \n",
       "2007-04-27  6418.700195  1494.069946  20526.500000   2557.209961  1542.520020   \n",
       "2007-05-28          NaN          NaN  20529.759766           NaN  1657.910034   \n",
       "2007-06-26  6559.299805  1492.890015  21803.570312   2574.159912  1749.550049   \n",
       "...                 ...          ...           ...           ...          ...   \n",
       "2021-12-31  7384.500000  4766.180176  23397.669922  15644.969727          NaN   \n",
       "2022-01-31  7464.399902  4515.549805  23802.259766  14239.879883          NaN   \n",
       "2022-03-01  7330.200195  4306.259766  22761.710938  13532.459961          NaN   \n",
       "2022-03-30  7578.799805  4602.450195  22232.029297  14442.269531  2746.739990   \n",
       "2022-04-28  7509.200195  4287.500000  20276.169922  12871.530273  2667.489990   \n",
       "\n",
       "                  Nikkei         Nifty    Russell2k          STI        Vix  \n",
       "2007-02-28  17604.119141           NaN   793.299988  3104.149902  15.420000  \n",
       "2007-03-29  17263.939453           NaN   798.940002  3228.879883  15.140000  \n",
       "2007-04-27  17400.410156           NaN   829.700012  3398.600098  12.450000  \n",
       "2007-05-28  17587.589844           NaN          NaN  3513.370117        NaN  \n",
       "2007-06-26  18066.109375           NaN   826.130005  3525.100098  18.889999  \n",
       "...                  ...           ...          ...          ...        ...  \n",
       "2021-12-31           NaN  17354.050781  2245.310059  3123.679932  17.219999  \n",
       "2022-01-31  27001.980469  17339.849609  2028.449951  3249.590088  24.830000  \n",
       "2022-03-01  26844.720703           NaN  2008.510010  3278.629883  33.320000  \n",
       "2022-03-30  28027.250000  17498.250000  2091.070068  3442.610107  19.330000  \n",
       "2022-04-28  26847.900391  17245.050781  1917.939941  3335.090088  29.990000  \n",
       "\n",
       "[189 rows x 15 columns]"
      ]
     },
     "execution_count": 28,
     "metadata": {},
     "output_type": "execute_result"
    }
   ],
   "source": [
    "prices_ts = df.loc[weights_ts.index]\n",
    "prices_ts\n"
   ]
  },
  {
   "cell_type": "code",
   "execution_count": 29,
   "id": "c71727fd",
   "metadata": {},
   "outputs": [
    {
     "data": {
      "text/plain": [
       "<AxesSubplot:title={'center':'Minimum Variance Portfolio Returns'}>"
      ]
     },
     "execution_count": 29,
     "metadata": {},
     "output_type": "execute_result"
    },
    {
     "data": {
      "image/png": "[encoded data removed]",
      "text/plain": [
       "<Figure size 1008x576 with 1 Axes>"
      ]
     },
     "metadata": {},
     "output_type": "display_data"
    }
   ],
   "source": [
    "f.backtest_plot(prices_ts = df, weights_ts = weights_ts)"
   ]
  },
  {
   "cell_type": "markdown",
   "id": "9685dca7",
   "metadata": {},
   "source": [
    "# VS S&P 500 Returns"
   ]
  },
  {
   "cell_type": "code",
   "execution_count": 30,
   "id": "6149f063",
   "metadata": {},
   "outputs": [
    {
     "data": {
      "text/plain": [
       "<AxesSubplot:title={'center':'Minimum Variance Portfolio Returns'}, xlabel='Date'>"
      ]
     },
     "execution_count": 30,
     "metadata": {},
     "output_type": "execute_result"
    },
    {
     "data": {
      "image/png": "[encoded data removed]",
      "text/plain": [
       "<Figure size 1008x576 with 1 Axes>"
      ]
     },
     "metadata": {},
     "output_type": "display_data"
    }
   ],
   "source": [
    "prices_ts = pd.DataFrame(df['S&P500'])\n",
    "(1+((prices_ts-prices_ts.shift())/prices_ts.shift()).fillna(0)).cumprod().plot(figsize = (12,8))\n",
    "f.backtest_plot(prices_ts = df, weights_ts = weights_ts)"
   ]
  },
  {
   "cell_type": "markdown",
   "id": "0803d225",
   "metadata": {},
   "source": [
    "# Conclusion\n",
    "### From the comparison between the Global Minimum Variance portfolio (Green) with the performance of the S&P500 (Blue), we can tell that it was significantly less volatile with lesser price swings. In 2008 the min vol strategy protected the portfolio fairly well, i.e it protected against the large drawdown from stock market crash. Minimum Variance portfolio also outperformed S&P500 (the best performing asset in our selected universe of assets)."
   ]
  },
  {
   "cell_type": "code",
   "execution_count": null,
   "id": "68da55a3",
   "metadata": {},
   "outputs": [],
   "source": []
  },
  {
   "cell_type": "code",
   "execution_count": null,
   "id": "5b78c18c",
   "metadata": {},
   "outputs": [],
   "source": []
  },
  {
   "cell_type": "code",
   "execution_count": null,
   "id": "72f4b59a",
   "metadata": {},
   "outputs": [],
   "source": []
  },
  {
   "cell_type": "code",
   "execution_count": null,
   "id": "a5a937f8",
   "metadata": {},
   "outputs": [],
   "source": []
  },
  {
   "cell_type": "code",
   "execution_count": null,
   "id": "433a186d",
   "metadata": {},
   "outputs": [],
   "source": []
  },
  {
   "cell_type": "code",
   "execution_count": null,
   "id": "54a3a402",
   "metadata": {},
   "outputs": [],
   "source": []
  },
  {
   "cell_type": "code",
   "execution_count": null,
   "id": "8e61bd44",
   "metadata": {},
   "outputs": [],
   "source": []
  },
  {
   "cell_type": "code",
   "execution_count": null,
   "id": "15bea23b",
   "metadata": {},
   "outputs": [],
   "source": []
  },
  {
   "cell_type": "code",
   "execution_count": null,
   "id": "87fc4102",
   "metadata": {},
   "outputs": [],
   "source": []
  },
  {
   "cell_type": "code",
   "execution_count": null,
   "id": "3ecb1e00",
   "metadata": {},
   "outputs": [],
   "source": []
  },
  {
   "cell_type": "code",
   "execution_count": null,
   "id": "466f645f",
   "metadata": {},
   "outputs": [],
   "source": []
  },
  {
   "cell_type": "markdown",
   "id": "92f9c100",
   "metadata": {},
   "source": [
    "# Extra Comments (Ignore)\n",
    "\n",
    "\n",
    "## Cant be not invested in something\n",
    "## Objective function to reduce turnover ratio and maximise (whichever metric)\n",
    "## pyomo?"
   ]
  },
  {
   "cell_type": "code",
   "execution_count": null,
   "id": "dd605108",
   "metadata": {},
   "outputs": [],
   "source": [
    "\n",
    "def minimise_volatility(target_return, er, cov):\n",
    "    '''\n",
    "    Minimise volatility function will give a SINGLE array of weights for the assets\n",
    "    for a given return value\n",
    "    '''\n",
    "    n = er.shape[0] #n would give the number of assets\n",
    "    \n",
    "    #Create a numpy array that repeats 1/n, n number of times\n",
    "    # Put it into an initial guess where the weights are all equal\n",
    "    initial_guess = np.repeat(1/n,n) \n",
    "    \n",
    "    bounds = ((0.0,0.2),)*n  #Create a tuple of n number of tuples with 0 and 1 as the values within each tuple\n",
    "    \n",
    "    #Create our constraints which must be in a dictionary form\n",
    "    return_is_target = {\n",
    "        'type':\"eq\", #Equality type means that whatever formula is provided in the 'fun' line will be equal to zero\n",
    "        'args': (er,), #arguments=> Over here it means that expected returns er is the variable argument\n",
    "                       #and weights is the value we want\n",
    "        'fun': lambda weights, er: target_return - portfolio_returns(weights, er)\n",
    "    }\n",
    "    weights_sum_to_1 = {\n",
    "        'type':'eq',\n",
    "        'fun': lambda weights: np.sum(weights) - 1\n",
    "    }\n",
    "    \n",
    "    max_asset_weight = {\n",
    "        'type':'ineq',\n",
    "        'fun':lambda weights: weights\n",
    "    }\n",
    "    \n",
    "    weights_ = minimize(portfolio_variance, initial_guess,\n",
    "                        #Note that the portfolio variance is another formula here(i.e this is a nested formula, with inputs \n",
    "                        #Covariance and weights, BUT we put the cov as an arg in the next line, ie. its a known variable)\n",
    "                        args = (cov,), method = \"SLSQP\",\n",
    "                        constraints = (return_is_target, weights_sum_to_1),\n",
    "                        bounds = bounds)\n",
    "    return weights_.x\n",
    "\n",
    "\n",
    "def portfolio_variance(weights, covariance):\n",
    "    '''\n",
    "    To calculate the portfolio variance with the weights and covariance matrix\n",
    "    We use the portfolio variance formula:\n",
    "    Weights transpose -> Matrix multiply by covar matrix -> Matrix multiply by weights\n",
    "    '''\n",
    "    return (weights.T@ covariance @ weights)**0.5\n",
    "\n",
    "\n",
    "\n",
    "def pf_returns(weights,df):\n",
    "    rets = (df-df.shift(1))/df\n",
    "    allocationWeights.columns = rets.columns\n",
    "    rets = rets*allocationWeights.astype(float)\n",
    "    return rets.sum(axis = 1)\n",
    "\n",
    "def plot_backtest(weights,df):\n",
    "    (1+pf_returns(weights, df)).cumprod().plot(figsize = (6,5))\n",
    "    \n",
    "def semideviation(r):\n",
    "    semidev = r[r<0].std(ddof = 0)\n",
    "    return semidev\n",
    "\n",
    "def portfolio_returns(weights, returns):\n",
    "    '''\n",
    "    To calulate the returns from the weights of each asset.\n",
    "    weights would be a numpy array which is then transposed to form a matrix\n",
    "    returns is a series consisting of the returns(data) of different assets(index)\n",
    "    Transpose weights - > Matrix multiplication with returns\n",
    "    \n",
    "    '''\n",
    "    return weights.T @ returns\n",
    "\n",
    "\n",
    "def resize_data(dataframe,rebal_freq = 5):\n",
    "    Resizeddf = {}\n",
    "    counter = 0\n",
    "    for i in dataframe.index:\n",
    "        counter +=1\n",
    "        if counter ==rebal_freq:\n",
    "            Resizeddf[i]=dataframe.loc[i]\n",
    "            counter =0\n",
    "    Resizeddata = pd.DataFrame(Resizeddf.values(), index = Resizeddf.keys(),\n",
    "                               columns = dataframe.columns)        \n",
    "    return Resizeddata    \n",
    "    \n",
    "    \n",
    "\n"
   ]
  },
  {
   "cell_type": "code",
   "execution_count": 54,
   "id": "1a23d398",
   "metadata": {},
   "outputs": [
    {
     "data": {
      "text/plain": [
       "<AxesSubplot:>"
      ]
     },
     "execution_count": 54,
     "metadata": {},
     "output_type": "execute_result"
    },
    {
     "data": {
      "image/png": "[encoded data removed]",
      "text/plain": [
       "<Figure size 432x288 with 1 Axes>"
      ]
     },
     "metadata": {
      "needs_background": "light"
     },
     "output_type": "display_data"
    }
   ],
   "source": [
    "a = a.round(decimals = 10)\n",
    "a.sum(axis =1).plot()"
   ]
  },
  {
   "cell_type": "code",
   "execution_count": 45,
   "id": "50c4e959",
   "metadata": {},
   "outputs": [
    {
     "data": {
      "text/plain": [
       "DatetimeIndex(['2008-02-27', '2008-03-27', '2008-04-25', '2008-05-26',\n",
       "               '2008-06-24', '2008-07-23', '2008-08-21', '2008-09-19',\n",
       "               '2008-10-20', '2008-11-18',\n",
       "               ...\n",
       "               '2020-12-25', '2021-01-26', '2021-02-24', '2021-03-25',\n",
       "               '2021-04-23', '2021-05-24', '2021-06-22', '2021-07-21',\n",
       "               '2021-08-19', '2021-09-17'],\n",
       "              dtype='datetime64[ns]', length=169, freq=None)"
      ]
     },
     "execution_count": 45,
     "metadata": {},
     "output_type": "execute_result"
    }
   ],
   "source": [
    "a.sum(axis = 1).index"
   ]
  },
  {
   "cell_type": "code",
   "execution_count": null,
   "id": "5c52ab47",
   "metadata": {},
   "outputs": [],
   "source": []
  },
  {
   "cell_type": "code",
   "execution_count": 30,
   "id": "6590cf24",
   "metadata": {},
   "outputs": [
    {
     "ename": "SyntaxError",
     "evalue": "invalid syntax (<ipython-input-30-e4580e3b0e26>, line 1)",
     "output_type": "error",
     "traceback": [
      "\u001b[1;36m  File \u001b[1;32m\"<ipython-input-30-e4580e3b0e26>\"\u001b[1;36m, line \u001b[1;32m1\u001b[0m\n\u001b[1;33m    def momentumstrat(returns)\u001b[0m\n\u001b[1;37m                                  ^\u001b[0m\n\u001b[1;31mSyntaxError\u001b[0m\u001b[1;31m:\u001b[0m invalid syntax\n"
     ]
    }
   ],
   "source": [
    "def momentumstrat(returns)    \n",
    "    df = returns\n",
    "    \n",
    "    \n",
    "    weights = df.ffill()\n",
    "    weights = weights.dropna()\n",
    "    weights = weights.round(5)\n",
    "    weights = (weights.sub(weights.median(axis=1), axis=0) > 0 ) * 1\n",
    "    \n",
    "    weights = weights[(weights != weights.shift(1)).sum(axis=1) > 1]\n",
    "    weights = weights.div(weights.sum(axis=1), axis=0)\n",
    "\n",
    "    if verbose:\n",
    "        print(weights.tail(20))\n",
    "    weights = weights.dropna()\n",
    "\n",
    "    return weights"
   ]
  },
  {
   "cell_type": "code",
   "execution_count": null,
   "id": "4eec5c13",
   "metadata": {},
   "outputs": [],
   "source": []
  },
  {
   "cell_type": "code",
   "execution_count": null,
   "id": "ebf77cf4",
   "metadata": {},
   "outputs": [],
   "source": []
  },
  {
   "cell_type": "code",
   "execution_count": null,
   "id": "72b8b297",
   "metadata": {},
   "outputs": [],
   "source": []
  },
  {
   "cell_type": "code",
   "execution_count": null,
   "id": "58f51fe6",
   "metadata": {},
   "outputs": [],
   "source": []
  },
  {
   "cell_type": "code",
   "execution_count": null,
   "id": "600ed4e8",
   "metadata": {},
   "outputs": [],
   "source": []
  },
  {
   "cell_type": "code",
   "execution_count": null,
   "id": "6d31c64c",
   "metadata": {},
   "outputs": [],
   "source": []
  },
  {
   "cell_type": "code",
   "execution_count": null,
   "id": "46202477",
   "metadata": {},
   "outputs": [],
   "source": []
  },
  {
   "cell_type": "code",
   "execution_count": null,
   "id": "26607b76",
   "metadata": {},
   "outputs": [],
   "source": []
  },
  {
   "cell_type": "code",
   "execution_count": null,
   "id": "ed7dd21f",
   "metadata": {},
   "outputs": [],
   "source": []
  },
  {
   "cell_type": "code",
   "execution_count": null,
   "id": "c80c1ead",
   "metadata": {},
   "outputs": [],
   "source": []
  },
  {
   "cell_type": "code",
   "execution_count": null,
   "id": "4a441636",
   "metadata": {},
   "outputs": [],
   "source": []
  },
  {
   "cell_type": "code",
   "execution_count": null,
   "id": "9439ac91",
   "metadata": {},
   "outputs": [],
   "source": []
  },
  {
   "cell_type": "code",
   "execution_count": null,
   "id": "5dfc8406",
   "metadata": {},
   "outputs": [],
   "source": []
  },
  {
   "cell_type": "code",
   "execution_count": null,
   "id": "c063374d",
   "metadata": {},
   "outputs": [],
   "source": []
  },
  {
   "cell_type": "code",
   "execution_count": null,
   "id": "cd721139",
   "metadata": {},
   "outputs": [],
   "source": []
  },
  {
   "cell_type": "code",
   "execution_count": null,
   "id": "65dad0bd",
   "metadata": {},
   "outputs": [],
   "source": []
  },
  {
   "cell_type": "code",
   "execution_count": null,
   "id": "8d4ddd29",
   "metadata": {},
   "outputs": [],
   "source": []
  },
  {
   "cell_type": "code",
   "execution_count": null,
   "id": "f258c190",
   "metadata": {},
   "outputs": [],
   "source": []
  },
  {
   "cell_type": "code",
   "execution_count": null,
   "id": "f1ee84d8",
   "metadata": {},
   "outputs": [],
   "source": []
  },
  {
   "cell_type": "code",
   "execution_count": null,
   "id": "034ac576",
   "metadata": {},
   "outputs": [],
   "source": []
  },
  {
   "cell_type": "code",
   "execution_count": null,
   "id": "7a367c66",
   "metadata": {},
   "outputs": [],
   "source": []
  },
  {
   "cell_type": "code",
   "execution_count": null,
   "id": "65fcc98d",
   "metadata": {},
   "outputs": [],
   "source": []
  },
  {
   "cell_type": "code",
   "execution_count": 27,
   "id": "21e578ae",
   "metadata": {},
   "outputs": [],
   "source": [
    "a = [1,2,3]\n",
    "b = [4,2,5]\n",
    "dictt = {}\n",
    "for keyx in a:\n",
    "    for valuey in b:\n",
    "        dictt[keyx] = valuey\n",
    "        b.remove(valuey)\n",
    "        break"
   ]
  },
  {
   "cell_type": "code",
   "execution_count": null,
   "id": "3f56f91a",
   "metadata": {},
   "outputs": [],
   "source": []
  },
  {
   "cell_type": "code",
   "execution_count": null,
   "id": "5a374d7c",
   "metadata": {},
   "outputs": [],
   "source": []
  },
  {
   "cell_type": "code",
   "execution_count": null,
   "id": "f3fa95d7",
   "metadata": {},
   "outputs": [],
   "source": []
  },
  {
   "cell_type": "code",
   "execution_count": null,
   "id": "08c0d63a",
   "metadata": {},
   "outputs": [],
   "source": []
  },
  {
   "cell_type": "code",
   "execution_count": 37,
   "id": "4a7d99df",
   "metadata": {},
   "outputs": [
    {
     "data": {
      "text/plain": [
       "4"
      ]
     },
     "execution_count": 37,
     "metadata": {},
     "output_type": "execute_result"
    }
   ],
   "source": [
    "dictt[a[0]]"
   ]
  },
  {
   "cell_type": "code",
   "execution_count": 21,
   "id": "a349dc19",
   "metadata": {},
   "outputs": [],
   "source": [
    "test_keys = [\"Rash\", \"Kil\", \"Varsha\"]\n",
    "test_values = [1, 4, 5]\n",
    "res = {}\n",
    "for key in test_keys:\n",
    "    for value in test_values:\n",
    "        res[key] = value\n",
    "        test_values.remove(value)\n",
    "        break  "
   ]
  },
  {
   "cell_type": "code",
   "execution_count": 39,
   "id": "3742231c",
   "metadata": {},
   "outputs": [],
   "source": [
    "a = [1,2,3]\n",
    "minht = min(a)"
   ]
  },
  {
   "cell_type": "code",
   "execution_count": 40,
   "id": "4fad0f21",
   "metadata": {},
   "outputs": [
    {
     "data": {
      "text/plain": [
       "1"
      ]
     },
     "execution_count": 40,
     "metadata": {},
     "output_type": "execute_result"
    }
   ],
   "source": [
    "minht"
   ]
  },
  {
   "cell_type": "code",
   "execution_count": 41,
   "id": "0c5bbee1",
   "metadata": {},
   "outputs": [
    {
     "data": {
      "text/plain": [
       "[2, 3]"
      ]
     },
     "execution_count": 41,
     "metadata": {},
     "output_type": "execute_result"
    }
   ],
   "source": [
    "a.remove(minht)\n",
    "a"
   ]
  },
  {
   "cell_type": "code",
   "execution_count": 43,
   "id": "398ed404",
   "metadata": {},
   "outputs": [
    {
     "data": {
      "text/plain": [
       "[1, 2, 3, 4]"
      ]
     },
     "execution_count": 43,
     "metadata": {},
     "output_type": "execute_result"
    }
   ],
   "source": [
    "a = [1,2,3,4]\n",
    "xlabels = list(range(len(a)+1))\n",
    "xlabels.remove(0)\n",
    "xlabels"
   ]
  },
  {
   "cell_type": "code",
   "execution_count": 52,
   "id": "bf600c31",
   "metadata": {},
   "outputs": [],
   "source": [
    "height = [1,2,4]"
   ]
  },
  {
   "cell_type": "code",
   "execution_count": 53,
   "id": "46584130",
   "metadata": {},
   "outputs": [],
   "source": [
    "\n",
    "def maxArea(self, height):\n",
    "    arealist = []\n",
    "    height2 = height\n",
    "    xlabels = list(range(len(height)+1))\n",
    "    xlabels.remove(0)\n",
    "    while height:\n",
    "        minheight = min(height)\n",
    "        minhtidx = height2.index(minheight)\n",
    "        for i in range(len(height2)):\n",
    "            area = minheight * abs(xlabels[i]-xlabels[minhtidx])\n",
    "            arealist.append(area)\n",
    "            height.remove(minheight)\n",
    "\n",
    "\n",
    "    return max(arealist)"
   ]
  },
  {
   "cell_type": "code",
   "execution_count": 54,
   "id": "a40da0a1",
   "metadata": {},
   "outputs": [
    {
     "ename": "ValueError",
     "evalue": "list.remove(x): x not in list",
     "output_type": "error",
     "traceback": [
      "\u001b[1;31m---------------------------------------------------------------------------\u001b[0m",
      "\u001b[1;31mValueError\u001b[0m                                Traceback (most recent call last)",
      "\u001b[1;32m<ipython-input-54-b1ae4c5deb74>\u001b[0m in \u001b[0;36m<module>\u001b[1;34m\u001b[0m\n\u001b[1;32m----> 1\u001b[1;33m \u001b[0mmaxArea\u001b[0m\u001b[1;33m(\u001b[0m\u001b[0mself\u001b[0m \u001b[1;33m=\u001b[0m \u001b[1;32mNone\u001b[0m\u001b[1;33m,\u001b[0m \u001b[0mheight\u001b[0m \u001b[1;33m=\u001b[0m \u001b[0mheight\u001b[0m\u001b[1;33m)\u001b[0m\u001b[1;33m\u001b[0m\u001b[1;33m\u001b[0m\u001b[0m\n\u001b[0m",
      "\u001b[1;32m<ipython-input-53-5ebaf5fa53b9>\u001b[0m in \u001b[0;36mmaxArea\u001b[1;34m(self, height)\u001b[0m\n\u001b[0;32m     10\u001b[0m             \u001b[0marea\u001b[0m \u001b[1;33m=\u001b[0m \u001b[0mminheight\u001b[0m \u001b[1;33m*\u001b[0m \u001b[0mabs\u001b[0m\u001b[1;33m(\u001b[0m\u001b[0mxlabels\u001b[0m\u001b[1;33m[\u001b[0m\u001b[0mi\u001b[0m\u001b[1;33m]\u001b[0m\u001b[1;33m-\u001b[0m\u001b[0mxlabels\u001b[0m\u001b[1;33m[\u001b[0m\u001b[0mminhtidx\u001b[0m\u001b[1;33m]\u001b[0m\u001b[1;33m)\u001b[0m\u001b[1;33m\u001b[0m\u001b[1;33m\u001b[0m\u001b[0m\n\u001b[0;32m     11\u001b[0m             \u001b[0marealist\u001b[0m\u001b[1;33m.\u001b[0m\u001b[0mappend\u001b[0m\u001b[1;33m(\u001b[0m\u001b[0marea\u001b[0m\u001b[1;33m)\u001b[0m\u001b[1;33m\u001b[0m\u001b[1;33m\u001b[0m\u001b[0m\n\u001b[1;32m---> 12\u001b[1;33m             \u001b[0mheight\u001b[0m\u001b[1;33m.\u001b[0m\u001b[0mremove\u001b[0m\u001b[1;33m(\u001b[0m\u001b[0mminheight\u001b[0m\u001b[1;33m)\u001b[0m\u001b[1;33m\u001b[0m\u001b[1;33m\u001b[0m\u001b[0m\n\u001b[0m\u001b[0;32m     13\u001b[0m \u001b[1;33m\u001b[0m\u001b[0m\n\u001b[0;32m     14\u001b[0m \u001b[1;33m\u001b[0m\u001b[0m\n",
      "\u001b[1;31mValueError\u001b[0m: list.remove(x): x not in list"
     ]
    }
   ],
   "source": [
    "maxArea(self = None, height = height)"
   ]
  },
  {
   "cell_type": "code",
   "execution_count": 61,
   "id": "5513c89e",
   "metadata": {},
   "outputs": [
    {
     "data": {
      "text/plain": [
       "[2, 4]"
      ]
     },
     "execution_count": 61,
     "metadata": {},
     "output_type": "execute_result"
    }
   ],
   "source": [
    "height = [1,2,4]\n",
    "minheight = min(height)\n",
    "height.remove(minheight)\n",
    "height"
   ]
  },
  {
   "cell_type": "code",
   "execution_count": 63,
   "id": "2be5311f",
   "metadata": {},
   "outputs": [],
   "source": [
    "arealist = []\n",
    "height2 = height\n",
    "xlabels = list(range(len(height)+1))\n",
    "xlabels.remove(0)\n",
    "while height:\n",
    "    minheight = min(height)\n",
    "    minhtidx = height2.index(minheight)\n",
    "    for i in range(len(height2)):\n",
    "        area = minheight * abs(xlabels[i]-xlabels[minhtidx])\n",
    "        arealist.append(area)\n",
    "        height.remove(min(height))"
   ]
  },
  {
   "cell_type": "code",
   "execution_count": null,
   "id": "ee8ba63a",
   "metadata": {},
   "outputs": [],
   "source": []
  },
  {
   "cell_type": "code",
   "execution_count": 68,
   "id": "94f2fec3",
   "metadata": {},
   "outputs": [],
   "source": [
    "height = [1,2,4]\n",
    "arealist = []\n",
    "height2 = height\n",
    "xlabels = list(range(len(height)+1))\n",
    "xlabels.remove(0)\n",
    "while height:\n",
    "    minhtidx = height2.index(min(height))\n",
    "    for i in range(len(height2)):\n",
    "        area = minheight * abs(xlabels[i]-xlabels[minhtidx])\n",
    "        arealist.append(area)\n",
    "        height.remove(min(height))\n",
    "\n"
   ]
  },
  {
   "cell_type": "code",
   "execution_count": 82,
   "id": "47ec2b40",
   "metadata": {},
   "outputs": [],
   "source": [
    "height = [1,2,4]\n",
    "height.remove(4)"
   ]
  },
  {
   "cell_type": "code",
   "execution_count": 83,
   "id": "0b5619e4",
   "metadata": {},
   "outputs": [
    {
     "data": {
      "text/plain": [
       "[1, 2]"
      ]
     },
     "execution_count": 83,
     "metadata": {},
     "output_type": "execute_result"
    }
   ],
   "source": [
    "height"
   ]
  },
  {
   "cell_type": "code",
   "execution_count": 79,
   "id": "7c338920",
   "metadata": {},
   "outputs": [
    {
     "data": {
      "text/plain": [
       "1"
      ]
     },
     "execution_count": 79,
     "metadata": {},
     "output_type": "execute_result"
    }
   ],
   "source": [
    "min(height)"
   ]
  },
  {
   "cell_type": "code",
   "execution_count": 73,
   "id": "37593b79",
   "metadata": {},
   "outputs": [
    {
     "data": {
      "text/plain": [
       "3"
      ]
     },
     "execution_count": 73,
     "metadata": {},
     "output_type": "execute_result"
    }
   ],
   "source": [
    "xlabels[2]"
   ]
  },
  {
   "cell_type": "code",
   "execution_count": 113,
   "id": "635287a3",
   "metadata": {},
   "outputs": [
    {
     "data": {
      "text/plain": [
       "1"
      ]
     },
     "execution_count": 113,
     "metadata": {},
     "output_type": "execute_result"
    }
   ],
   "source": [
    "height = [1,2,4]\n",
    "minht = min(height)\n",
    "minhtidx = height.index(minht)\n",
    "xlabels[minhtidx]"
   ]
  },
  {
   "cell_type": "code",
   "execution_count": 86,
   "id": "c935fc96",
   "metadata": {},
   "outputs": [],
   "source": [
    "height = [1,8,6,2,5,4,8,3,7]\n",
    "height2 = height.copy()\n"
   ]
  },
  {
   "cell_type": "code",
   "execution_count": 87,
   "id": "433d63c0",
   "metadata": {},
   "outputs": [
    {
     "data": {
      "text/plain": [
       "[0, 1, 2, 3, 4, 5, 6, 7, 8]"
      ]
     },
     "execution_count": 87,
     "metadata": {},
     "output_type": "execute_result"
    }
   ],
   "source": [
    "xlabels = list(range(len(height2)))\n",
    "xlabels"
   ]
  },
  {
   "cell_type": "code",
   "execution_count": 88,
   "id": "f746dc23",
   "metadata": {},
   "outputs": [
    {
     "data": {
      "text/plain": [
       "1"
      ]
     },
     "execution_count": 88,
     "metadata": {},
     "output_type": "execute_result"
    }
   ],
   "source": [
    "minhtidx"
   ]
  },
  {
   "cell_type": "code",
   "execution_count": 89,
   "id": "d033c549",
   "metadata": {},
   "outputs": [
    {
     "data": {
      "text/plain": [
       "1"
      ]
     },
     "execution_count": 89,
     "metadata": {},
     "output_type": "execute_result"
    }
   ],
   "source": [
    "xlabels[minhtidx]"
   ]
  },
  {
   "cell_type": "code",
   "execution_count": 90,
   "id": "400ab007",
   "metadata": {},
   "outputs": [
    {
     "data": {
      "text/plain": [
       "[1, 8, 6, 2, 5, 4, 8, 3, 7]"
      ]
     },
     "execution_count": 90,
     "metadata": {},
     "output_type": "execute_result"
    }
   ],
   "source": [
    "height2"
   ]
  },
  {
   "cell_type": "code",
   "execution_count": 91,
   "id": "9d86ae6d",
   "metadata": {},
   "outputs": [
    {
     "data": {
      "text/plain": [
       "1"
      ]
     },
     "execution_count": 91,
     "metadata": {},
     "output_type": "execute_result"
    }
   ],
   "source": [
    "minhtidx"
   ]
  },
  {
   "cell_type": "code",
   "execution_count": 107,
   "id": "89a0155a",
   "metadata": {},
   "outputs": [
    {
     "data": {
      "text/plain": [
       "7"
      ]
     },
     "execution_count": 107,
     "metadata": {},
     "output_type": "execute_result"
    }
   ],
   "source": [
    "minheight"
   ]
  },
  {
   "cell_type": "code",
   "execution_count": 110,
   "id": "3473f746",
   "metadata": {},
   "outputs": [
    {
     "data": {
      "text/plain": [
       "8"
      ]
     },
     "execution_count": 110,
     "metadata": {},
     "output_type": "execute_result"
    }
   ],
   "source": [
    "xlabels[minhtidx]"
   ]
  },
  {
   "cell_type": "code",
   "execution_count": 109,
   "id": "cc64a3b6",
   "metadata": {},
   "outputs": [
    {
     "data": {
      "text/plain": [
       "0"
      ]
     },
     "execution_count": 109,
     "metadata": {},
     "output_type": "execute_result"
    }
   ],
   "source": [
    "min(xlabels[minhtidx],xlabels[0])"
   ]
  },
  {
   "cell_type": "code",
   "execution_count": 111,
   "id": "5b71f216",
   "metadata": {},
   "outputs": [
    {
     "data": {
      "text/plain": [
       "8"
      ]
     },
     "execution_count": 111,
     "metadata": {},
     "output_type": "execute_result"
    }
   ],
   "source": [
    "minheight = min(height)\n",
    "minhtidx = height2.index(minheight)\n",
    "min(minheight,height2[0])* abs((xlabels[minhtidx]-xlabels[0]))"
   ]
  },
  {
   "cell_type": "code",
   "execution_count": 104,
   "id": "120ab2b8",
   "metadata": {},
   "outputs": [],
   "source": [
    "height.remove(min(height))"
   ]
  },
  {
   "cell_type": "code",
   "execution_count": 105,
   "id": "0f95994e",
   "metadata": {},
   "outputs": [
    {
     "data": {
      "text/plain": [
       "[8, 8, 7]"
      ]
     },
     "execution_count": 105,
     "metadata": {},
     "output_type": "execute_result"
    }
   ],
   "source": [
    "height"
   ]
  },
  {
   "cell_type": "code",
   "execution_count": 135,
   "id": "e2ba6aab",
   "metadata": {},
   "outputs": [],
   "source": [
    "def maxArea(self, height):\n",
    "    arealist = []\n",
    "    xlabels = list(range(len(height)))\n",
    "\n",
    "    height2 = height\n",
    "    while height:\n",
    "        for i in range(len(height2)):\n",
    "            minheight = min(height)\n",
    "            minhghtidx = height2.index(minheight)\n",
    "            area = minheight * abs((xlabels[minhghtidx]-xlabels[i]))\n",
    "            arealist.append(area)\n",
    "            if i == (len(height)-1):\n",
    "                height.remove(minheight)\n",
    "\n",
    "\n",
    "\n",
    "    return arealist"
   ]
  },
  {
   "cell_type": "code",
   "execution_count": 34,
   "id": "e5151d07",
   "metadata": {},
   "outputs": [],
   "source": [
    "height = [1,8,6,2,5,181,4,8,3,7,2912,182]\n"
   ]
  },
  {
   "cell_type": "code",
   "execution_count": 3,
   "id": "785be819",
   "metadata": {},
   "outputs": [],
   "source": [
    "\n",
    "def maxArea(self, height):\n",
    "    arealist = []\n",
    "    height2 = []\n",
    "    height2[:] = height[:] #make a height 2 as I am going to slowly remove the minimum values from the height list\n",
    "    xlabels = list(range(len(height2)))\n",
    "    height = height\n",
    "    while height:\n",
    "        for i in range(len(height2)):\n",
    "            minheight = min(height)\n",
    "            minhghtidx = height2.index(minheight)\n",
    "\n",
    "            area = min(minheight,height2[i]) * abs((xlabels[minhghtidx]-xlabels[i])) #Take the minimum of the minheight and height of the other point\n",
    "            arealist.append(area) #Append all areas to the arealist\n",
    "            if i == len(height2)-1:\n",
    "\n",
    "                height.remove(min(height))\n",
    "\n",
    "\n",
    "\n",
    "    return max(arealist)"
   ]
  },
  {
   "cell_type": "code",
   "execution_count": 35,
   "id": "5361eb15",
   "metadata": {},
   "outputs": [
    {
     "data": {
      "text/plain": [
       "1086"
      ]
     },
     "execution_count": 35,
     "metadata": {},
     "output_type": "execute_result"
    }
   ],
   "source": [
    "maxArea( height = height)"
   ]
  },
  {
   "cell_type": "code",
   "execution_count": 27,
   "id": "3bd01fd9",
   "metadata": {},
   "outputs": [],
   "source": [
    "def maxProfit(prices):\n",
    "        while True:\n",
    "            if prices.index(max(prices))== len(prices)-1:\n",
    "                prices.remove(max(prices))\n",
    "            elif prices.index(min(prices)) == 0:\n",
    "                prices.remove(min(prices))\n",
    "            elif prices.index(min(prices))<prices.index(max(prices)):\n",
    "                profit = max(prices)-min\n",
    "                return profit\n",
    "            elif prices.index(min(prices))>prices.index(max(prices)):\n",
    "                prices.remove(min(prices))\n",
    "            elif len(prices) <2:\n",
    "                return profit\n",
    "            else: continue\n",
    "                     "
   ]
  },
  {
   "cell_type": "code",
   "execution_count": 33,
   "id": "4371e07d",
   "metadata": {},
   "outputs": [],
   "source": [
    "p = [7,1,5,3,6,4]\n"
   ]
  },
  {
   "cell_type": "code",
   "execution_count": 36,
   "id": "f81bb169",
   "metadata": {},
   "outputs": [],
   "source": [
    "def maxProfit(prices):\n",
    "    n = len(prices)\n",
    "    if len(prices)<2:\n",
    "        return 0\n",
    "    maxprofit = 0\n",
    "    minpx = prices[0]\n",
    "    for px in prices:\n",
    "        maxprofit = max(px-minpx,maxprofit)\n",
    "        minpx = min(minpx,px)\n",
    "    return maxprofit\n",
    "    \n",
    "    "
   ]
  },
  {
   "cell_type": "code",
   "execution_count": 37,
   "id": "a0956b48",
   "metadata": {},
   "outputs": [
    {
     "data": {
      "text/plain": [
       "5"
      ]
     },
     "execution_count": 37,
     "metadata": {},
     "output_type": "execute_result"
    }
   ],
   "source": [
    "maxProfit(p)"
   ]
  },
  {
   "cell_type": "markdown",
   "id": "2854c7ba",
   "metadata": {},
   "source": []
  }
 ],
 "metadata": {
  "kernelspec": {
   "display_name": "Python 3",
   "language": "python",
   "name": "python3"
  },
  "language_info": {
   "codemirror_mode": {
    "name": "ipython",
    "version": 3
   },
   "file_extension": ".py",
   "mimetype": "text/x-python",
   "name": "python",
   "nbconvert_exporter": "python",
   "pygments_lexer": "ipython3",
   "version": "3.8.8"
  }
 },
 "nbformat": 4,
 "nbformat_minor": 5
}
